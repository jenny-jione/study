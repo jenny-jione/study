{
 "cells": [
  {
   "cell_type": "markdown",
   "id": "770544c1",
   "metadata": {},
   "source": [
    "## 1. 멀티스레드"
   ]
  },
  {
   "cell_type": "code",
   "execution_count": 1,
   "id": "9a0d2df9",
   "metadata": {},
   "outputs": [],
   "source": [
    "import time"
   ]
  },
  {
   "cell_type": "code",
   "execution_count": 3,
   "id": "5b5175b9",
   "metadata": {},
   "outputs": [],
   "source": [
    "def task(cnt):\n",
    "    print(f'{cnt}번의 헤비한 작업을 시작합니다...')\n",
    "    time.sleep(1)\n",
    "    print('작업이 종료되었습니다.')"
   ]
  },
  {
   "cell_type": "code",
   "execution_count": 4,
   "id": "111bfe6a",
   "metadata": {},
   "outputs": [
    {
     "name": "stdout",
     "output_type": "stream",
     "text": [
      "0번의 헤비한 작업을 시작합니다...\n",
      "작업이 종료되었습니다.\n",
      "1번의 헤비한 작업을 시작합니다...\n",
      "작업이 종료되었습니다.\n",
      "2번의 헤비한 작업을 시작합니다...\n",
      "작업이 종료되었습니다.\n",
      "3번의 헤비한 작업을 시작합니다...\n",
      "작업이 종료되었습니다.\n",
      "4번의 헤비한 작업을 시작합니다...\n",
      "작업이 종료되었습니다.\n",
      "5번의 헤비한 작업을 시작합니다...\n",
      "작업이 종료되었습니다.\n",
      "6번의 헤비한 작업을 시작합니다...\n",
      "작업이 종료되었습니다.\n",
      "7번의 헤비한 작업을 시작합니다...\n",
      "작업이 종료되었습니다.\n",
      "8번의 헤비한 작업을 시작합니다...\n",
      "작업이 종료되었습니다.\n",
      "9번의 헤비한 작업을 시작합니다...\n",
      "작업이 종료되었습니다.\n",
      "**********\n",
      "모든 작업 종료, 10.055 초 걸림 ...\n"
     ]
    }
   ],
   "source": [
    "init = time.time()\n",
    "for i, _ in enumerate(range(10)):\n",
    "    task(i)\n",
    "    \n",
    "print('*'*10)\n",
    "print(f'모든 작업 종료, {round(time.time() - init, 3)} 초 걸림 ...')"
   ]
  },
  {
   "cell_type": "code",
   "execution_count": null,
   "id": "cf6a4f50",
   "metadata": {},
   "outputs": [],
   "source": [
    "# 크롤링, 데이터파싱 등 너무 오래 걸리는 작업을 할 때."
   ]
  },
  {
   "cell_type": "code",
   "execution_count": 8,
   "id": "b0c491fe",
   "metadata": {},
   "outputs": [
    {
     "name": "stdout",
     "output_type": "stream",
     "text": [
      "0번의 헤비한 작업을 시작합니다...\n",
      "1번의 헤비한 작업을 시작합니다...\n",
      "2번의 헤비한 작업을 시작합니다...\n",
      "3번의 헤비한 작업을 시작합니다...\n",
      "4번의 헤비한 작업을 시작합니다...\n",
      "5번의 헤비한 작업을 시작합니다...\n",
      "6번의 헤비한 작업을 시작합니다...\n",
      "7번의 헤비한 작업을 시작합니다...\n",
      "8번의 헤비한 작업을 시작합니다...\n",
      "9번의 헤비한 작업을 시작합니다...\n",
      "작업이 종료되었습니다.작업이 종료되었습니다.\n",
      "작업이 종료되었습니다.\n",
      "작업이 종료되었습니다.\n",
      "작업이 종료되었습니다.\n",
      "\n",
      "작업이 종료되었습니다.\n",
      "작업이 종료되었습니다.\n",
      "작업이 종료되었습니다.\n",
      "작업이 종료되었습니다.\n",
      "작업이 종료되었습니다.\n",
      "**********\n",
      "모든 작업 종료, 1.006 초 걸림 ...\n"
     ]
    }
   ],
   "source": [
    "import time\n",
    "import threading\n",
    "\n",
    "threads = []\n",
    "init = time.time()\n",
    "for i, _ in enumerate(range(10)):\n",
    "    t = threading.Thread(target=task, args=(i,)) # task라는 작업을 스레드에게 \n",
    "    t.start()\n",
    "    threads.append(t)\n",
    "    \n",
    "for thread in threads:\n",
    "    thread.join()\n",
    "    \n",
    "    \n",
    "print('*'*10)\n",
    "print(f'모든 작업 종료, {round(time.time() - init, 3)} 초 걸림 ...')"
   ]
  },
  {
   "cell_type": "code",
   "execution_count": null,
   "id": "6c919e2a",
   "metadata": {},
   "outputs": [],
   "source": [
    "# 모든 작업이 1초만에 끝남.\n",
    "# 스레드가 10개가 생성이 되어서 동시에 10개를 처리.\n",
    "# 스레드를 접속자 한명당 하나씩 부여를 하면? 채팅 프로그램 구현 가능?"
   ]
  },
  {
   "cell_type": "code",
   "execution_count": null,
   "id": "346ff723",
   "metadata": {},
   "outputs": [],
   "source": []
  },
  {
   "cell_type": "code",
   "execution_count": null,
   "id": "f1b907db",
   "metadata": {},
   "outputs": [],
   "source": []
  },
  {
   "cell_type": "code",
   "execution_count": null,
   "id": "e2061d9b",
   "metadata": {},
   "outputs": [],
   "source": []
  },
  {
   "cell_type": "code",
   "execution_count": null,
   "id": "e9180e30",
   "metadata": {},
   "outputs": [],
   "source": []
  },
  {
   "cell_type": "code",
   "execution_count": null,
   "id": "eb9cc98a",
   "metadata": {},
   "outputs": [],
   "source": []
  }
 ],
 "metadata": {
  "kernelspec": {
   "display_name": "Python 3 (ipykernel)",
   "language": "python",
   "name": "python3"
  },
  "language_info": {
   "codemirror_mode": {
    "name": "ipython",
    "version": 3
   },
   "file_extension": ".py",
   "mimetype": "text/x-python",
   "name": "python",
   "nbconvert_exporter": "python",
   "pygments_lexer": "ipython3",
   "version": "3.10.8"
  }
 },
 "nbformat": 4,
 "nbformat_minor": 5
}

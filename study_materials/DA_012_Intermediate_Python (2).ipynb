{
 "cells": [
  {
   "cell_type": "markdown",
   "id": "26daacbc",
   "metadata": {},
   "source": [
    "# 1. 중급자를 위한 파이썬 "
   ]
  },
  {
   "cell_type": "markdown",
   "id": "735fb3ea",
   "metadata": {},
   "source": [
    "## 1.3. 데코레이터 (annotation) 上"
   ]
  },
  {
   "cell_type": "markdown",
   "id": "6e5f629c",
   "metadata": {},
   "source": [
    "* 가끔 파이썬 코드를 보면 ```@``` 기호가 붙은것을 많이 보았을 것입니다.\n",
    "* 이것은 데코레이터라 하는것이며, 개인적으로 매직메서드와 더불어 파이썬 초급과 중급을 나누는 기준이라 생각합니다.\n",
    "* 해당 기호는 무엇이고, 어디에 쓰이는지 한번 알아보도록 할꺄요?"
   ]
  },
  {
   "cell_type": "markdown",
   "id": "e2f54f24",
   "metadata": {},
   "source": [
    "### 1.3.1. 다중 함수 처리"
   ]
  },
  {
   "cell_type": "markdown",
   "id": "1daac3a2",
   "metadata": {},
   "source": [
    "* 우리가 코드를 짤 때, 하나의 결과물을 가지고 다른 함수를 실행해야 한다 가정하겠습니다."
   ]
  },
  {
   "cell_type": "code",
   "execution_count": 6,
   "id": "1f7efd2c",
   "metadata": {},
   "outputs": [],
   "source": [
    "def is_human_questionmark(living_being):\n",
    "    ranks = ['iron', 'bronze', 'silver', 'gold', 'platinum', 'diamond']\n",
    "    \n",
    "    if not living_being in ranks:\n",
    "        raise Exception('wrong tier')\n",
    "    \n",
    "    if living_being == 'iron':\n",
    "        return False\n",
    "    elif living_being == 'bronze':\n",
    "        return False\n",
    "    elif living_being == 'silver':\n",
    "        return False\n",
    "    else:\n",
    "        return True"
   ]
  },
  {
   "cell_type": "code",
   "execution_count": 16,
   "id": "316886e8",
   "metadata": {},
   "outputs": [],
   "source": [
    "def join_game(**player):\n",
    "    switch = is_human_questionmark(player['tier'])\n",
    "    if switch:\n",
    "        print(f\"Welcome to the summoner's rift {player['name']}, {player['tier']} player!\")\n",
    "    else:\n",
    "        print(f\"You've banned from the game, sorry.\")"
   ]
  },
  {
   "cell_type": "code",
   "execution_count": 151,
   "id": "c9bdf709",
   "metadata": {},
   "outputs": [
    {
     "name": "stdout",
     "output_type": "stream",
     "text": [
      "Welcome to the summoner's rift gangsan, diamond player!\n"
     ]
    }
   ],
   "source": [
    "player = {'name': 'gangsan', 'tier': 'diamond'}\n",
    "join_game(**player)"
   ]
  },
  {
   "cell_type": "markdown",
   "id": "ad9301e0",
   "metadata": {},
   "source": [
    "* 별 문제가 없는 코드입니다. 대부분이 이런식으로 하나의 함수 결과물을 판단하여 다른 함수의 행동을 결정지을때가 많습니다.\n",
    "* 하지만 언제까지 초급 파이썬 사용자처럼 코드를 짤 수는 없습니다.\n",
    "* 이것을 데코레이터를 활용해서 작성할 수 있지 않을까요?\n",
    "* 데코레이터를 활용해서 작성해보기 전, 데코레이터가 어떻게 형성이 되는지 차근차근 뜯어봅시다.\n",
    "* 만약 하나의 함수에 반복적인 행동을 하는 기능이 있다고 가정해봅시다."
   ]
  },
  {
   "cell_type": "code",
   "execution_count": 23,
   "id": "33f00df0",
   "metadata": {},
   "outputs": [],
   "source": [
    "def player_one():\n",
    "    print('------player joined----')\n",
    "    print('player_one')\n",
    "    print('------player exited----')\n",
    "\n",
    "def player_two():\n",
    "    print('------player joined----')\n",
    "    print('player_two')\n",
    "    print('------player exited----')\n",
    "\n",
    "def player_sam():\n",
    "    print('------player joined----')\n",
    "    print('player_sam')\n",
    "    print('------player exited----')\n"
   ]
  },
  {
   "cell_type": "code",
   "execution_count": 24,
   "id": "aa1b417e",
   "metadata": {},
   "outputs": [
    {
     "name": "stdout",
     "output_type": "stream",
     "text": [
      "------player joined----\n",
      "player_one\n",
      "------player exited----\n"
     ]
    }
   ],
   "source": [
    "player_one()"
   ]
  },
  {
   "cell_type": "code",
   "execution_count": 25,
   "id": "4c97a51e",
   "metadata": {},
   "outputs": [
    {
     "name": "stdout",
     "output_type": "stream",
     "text": [
      "------player joined----\n",
      "player_two\n",
      "------player exited----\n"
     ]
    }
   ],
   "source": [
    "player_two()"
   ]
  },
  {
   "cell_type": "code",
   "execution_count": 26,
   "id": "7e1f50ba",
   "metadata": {},
   "outputs": [
    {
     "name": "stdout",
     "output_type": "stream",
     "text": [
      "------player joined----\n",
      "player_sam\n",
      "------player exited----\n"
     ]
    }
   ],
   "source": [
    "player_sam()"
   ]
  },
  {
   "cell_type": "markdown",
   "id": "3d20ad5f",
   "metadata": {},
   "source": [
    "* ```plyer_``` 라는 함수가 호출될때마다 우리는 안내 문구를 띄우고 싶다 가정해봅시다.\n",
    "* 함수마다 위처럼 print를 쓸 수도 있지만, 우리가 배우려는 데코레이터를 활용하면 저런짓이 필요 없겠다 가늠이 되겠죠?\n",
    "* 데코레이터에 다이브 하기전 우리는 몇가지 CS 지식을 배우고 가야할 필요가 있습니다!"
   ]
  },
  {
   "cell_type": "markdown",
   "id": "a22318e6",
   "metadata": {},
   "source": [
    "### 1.3.2. 일급 객체 (first class object)\n",
    "* 데코레이터를 알기 전에 선행적으로 알아야 할것이 있습니다. 바로 일급 객체입니다.\n",
    "* 일급 객체란 다른 객체들에 일반적으로 적용 가능한 연산을 모두 지원하는 객체를 말합니다.\n",
    "* 일급 객체가 되기 위해선 아래 4가지 조건을 충족 해야 합니다:\n",
    "    1. 변수에 담을 수 있다\n",
    "    2. 파라메타로 전달 할 수 있다.\n",
    "    3. 반환값으로 사용될 수 있다.\n",
    "    4. 비교의 대상이 될 수 있다."
   ]
  },
  {
   "cell_type": "code",
   "execution_count": 45,
   "id": "12fdb3c6",
   "metadata": {},
   "outputs": [],
   "source": [
    "def square(x):\n",
    "    return x * x"
   ]
  },
  {
   "cell_type": "code",
   "execution_count": 46,
   "id": "8b53c1b8",
   "metadata": {},
   "outputs": [
    {
     "name": "stdout",
     "output_type": "stream",
     "text": [
      "25\n"
     ]
    }
   ],
   "source": [
    "print(square(5)) # print() 함수의 파라메다로 전달 되었습니다."
   ]
  },
  {
   "cell_type": "code",
   "execution_count": 51,
   "id": "23166172",
   "metadata": {},
   "outputs": [],
   "source": [
    "fx = square      # 변수 fx 에 square 함수를 할당하였습니다."
   ]
  },
  {
   "cell_type": "code",
   "execution_count": 48,
   "id": "df1c90be",
   "metadata": {},
   "outputs": [
    {
     "name": "stdout",
     "output_type": "stream",
     "text": [
      "<function square at 0x7f14a40865e0>\n"
     ]
    }
   ],
   "source": [
    "print(square)"
   ]
  },
  {
   "cell_type": "code",
   "execution_count": 49,
   "id": "64bc9693",
   "metadata": {},
   "outputs": [
    {
     "name": "stdout",
     "output_type": "stream",
     "text": [
      "<function square at 0x7f14a40865e0>\n"
     ]
    }
   ],
   "source": [
    "print(fx)"
   ]
  },
  {
   "cell_type": "code",
   "execution_count": 50,
   "id": "e648ec62",
   "metadata": {},
   "outputs": [
    {
     "name": "stdout",
     "output_type": "stream",
     "text": [
      "25\n"
     ]
    }
   ],
   "source": [
    "print(fx(5))     # fx()를 실행시켜 square함수를 실행, 즉 반환값으로 사용되었습니다."
   ]
  },
  {
   "cell_type": "markdown",
   "id": "ad4dd398",
   "metadata": {},
   "source": [
    "* 위에서 본것처럼 함수 ```fx()``` 함수를 호출하여 ```square``` 함수를 호출하였습니다.\n",
    "* 더 실용성있게 구성해볼까요?"
   ]
  },
  {
   "cell_type": "code",
   "execution_count": 60,
   "id": "2402d47a",
   "metadata": {},
   "outputs": [],
   "source": [
    "def square(x):\n",
    "    return x * x\n",
    "\n",
    "def mapper(f, *args):\n",
    "    result = []\n",
    "    for i in args:\n",
    "        result.append(f(i))\n",
    "    return result"
   ]
  },
  {
   "cell_type": "code",
   "execution_count": 61,
   "id": "530389de",
   "metadata": {},
   "outputs": [
    {
     "name": "stdout",
     "output_type": "stream",
     "text": [
      "[1, 4, 9, 16, 25, 36]\n"
     ]
    }
   ],
   "source": [
    "num_list = 1,2,3,4,5,6\n",
    "result = mapper(square, *num_list)\n",
    "print(result)"
   ]
  },
  {
   "cell_type": "markdown",
   "id": "d059fbad",
   "metadata": {},
   "source": [
    "* 이런식으로 함수를 일급 객체 취급하여 얻는 이점은, 우리가 작성한 함수를 변형, 응용할 수 있다는 점입니다.\n",
    "* 함수가 일급 객체라는것은 함수를 객체와 동일하게 사용할 수 있다는 의미입니다!"
   ]
  },
  {
   "cell_type": "code",
   "execution_count": 57,
   "id": "d12c2d4c",
   "metadata": {},
   "outputs": [],
   "source": [
    "def minus_one(x):\n",
    "    return x - 1\n",
    "\n",
    "def double_it(x):\n",
    "    return x * 2"
   ]
  },
  {
   "cell_type": "code",
   "execution_count": 59,
   "id": "8427a3de",
   "metadata": {},
   "outputs": [
    {
     "name": "stdout",
     "output_type": "stream",
     "text": [
      "[0, 1, 2, 3, 4, 5]\n"
     ]
    }
   ],
   "source": [
    "result2 = mapper(minus_one, *num_list)\n",
    "print(result2)"
   ]
  },
  {
   "cell_type": "code",
   "execution_count": 62,
   "id": "f006af01",
   "metadata": {},
   "outputs": [
    {
     "name": "stdout",
     "output_type": "stream",
     "text": [
      "[2, 4, 6, 8, 10, 12]\n"
     ]
    }
   ],
   "source": [
    "result3 = mapper(double_it, *num_list)\n",
    "print(result3)"
   ]
  },
  {
   "cell_type": "markdown",
   "id": "28feb08f",
   "metadata": {},
   "source": [
    "* 신기하죠? 이게 일급 객체입니다.\n",
    "* 여기서 일급객체함수 (```square```, ```minus_one```, ```double_it```)를 받아 처리하는 함수 (```mapper```) 를 고차함수\n",
    "* (higher-order function) 이라 합니다.\n",
    "* 여기서 우리가 다룬 일급 객체 함수를 또 다른 말로 콜백함수 (callback function) 라고도 합니다."
   ]
  },
  {
   "cell_type": "markdown",
   "id": "8c694538",
   "metadata": {},
   "source": [
    "### 1.3.3. 클로져 (closure)\n",
    "* 클로져는 일급객체함수를 지원하는 언어가 지원하는 기술입니다. 그렇기 때문에 클로져를 배우기 전 일급 객체함수를 알아야 합니다.\n",
    "* 우리의 목적 데코레이터를 알기 전에 또한 이 클로져의 개념이 필요합니다.\n",
    "* 아래의 예제를 보고 클로져를 이해해보도록 합시다."
   ]
  },
  {
   "cell_type": "code",
   "execution_count": 77,
   "id": "2579558e",
   "metadata": {},
   "outputs": [],
   "source": [
    "def pretty_print():\n",
    "    msg = '------player joined----'\n",
    "    msg2 = '------player exited----'\n",
    "    \n",
    "    def player_five():\n",
    "        print(msg)\n",
    "        print('5p')\n",
    "        print(msg2)\n",
    "    \n",
    "    return player_five()"
   ]
  },
  {
   "cell_type": "code",
   "execution_count": 80,
   "id": "749c9608",
   "metadata": {},
   "outputs": [
    {
     "name": "stdout",
     "output_type": "stream",
     "text": [
      "------player joined----\n",
      "5p\n",
      "------player exited----\n"
     ]
    }
   ],
   "source": [
    "pretty_print()"
   ]
  },
  {
   "cell_type": "markdown",
   "id": "9b3d51a4",
   "metadata": {},
   "source": [
    "* 어 이상합니다. 분명히 ```msg```, ```msg2``` 는 ```pretty_print()```의 지역변수 이고,\n",
    "* 해당 인자들은 ```player_five()``` 함수로 전달이 되지 않는데 어떻게 출력이 되었을까요??\n",
    "* 그걸 알기 위해서 함수를 살짝 변형해보겠습니다."
   ]
  },
  {
   "cell_type": "code",
   "execution_count": 82,
   "id": "8a83d3e3",
   "metadata": {},
   "outputs": [],
   "source": [
    "def pretty_print2():\n",
    "    msg = '------player joined----'\n",
    "    msg2 = '------player exited----'\n",
    "    \n",
    "    def player_five():\n",
    "        print(msg)\n",
    "        print('5p')\n",
    "        print(msg2)\n",
    "    \n",
    "    return player_five # <-------------- () 만 지웠습니다!"
   ]
  },
  {
   "cell_type": "code",
   "execution_count": 84,
   "id": "765f220a",
   "metadata": {},
   "outputs": [
    {
     "data": {
      "text/plain": [
       "<function __main__.pretty_print2.<locals>.player_five()>"
      ]
     },
     "execution_count": 84,
     "metadata": {},
     "output_type": "execute_result"
    }
   ],
   "source": [
    "pretty_print2()"
   ]
  },
  {
   "cell_type": "markdown",
   "id": "bc775983",
   "metadata": {},
   "source": [
    "* 위의 함수는 return 시 ```player_five``` 함수를 호출하지 않고 그 함수 오브젝트를 리턴하고 있습니다.\n",
    "* 또한 이 함수 안에는 ```player_five``` 가 할당되어 있는게 보입니다."
   ]
  },
  {
   "cell_type": "code",
   "execution_count": 88,
   "id": "e078c4a4",
   "metadata": {},
   "outputs": [],
   "source": [
    "tag = pretty_print2()"
   ]
  },
  {
   "cell_type": "code",
   "execution_count": 91,
   "id": "f11666e5",
   "metadata": {},
   "outputs": [
    {
     "name": "stdout",
     "output_type": "stream",
     "text": [
      "<function pretty_print2.<locals>.player_five at 0x7f14a40b38b0>\n"
     ]
    }
   ],
   "source": [
    "print(tag)"
   ]
  },
  {
   "cell_type": "code",
   "execution_count": 94,
   "id": "d17af4e4",
   "metadata": {},
   "outputs": [
    {
     "name": "stdout",
     "output_type": "stream",
     "text": [
      "------player joined----\n",
      "5p\n",
      "------player exited----\n"
     ]
    }
   ],
   "source": [
    "tag()"
   ]
  },
  {
   "cell_type": "code",
   "execution_count": 95,
   "id": "8377d3ac",
   "metadata": {},
   "outputs": [
    {
     "name": "stdout",
     "output_type": "stream",
     "text": [
      "['__repr__', '__call__', '__get__', '__new__', '__closure__', '__doc__', '__globals__', '__module__', '__code__', '__defaults__', '__kwdefaults__', '__annotations__', '__dict__', '__name__', '__qualname__', '__hash__', '__str__', '__getattribute__', '__setattr__', '__delattr__', '__lt__', '__le__', '__eq__', '__ne__', '__gt__', '__ge__', '__init__', '__reduce_ex__', '__reduce__', '__subclasshook__', '__init_subclass__', '__format__', '__sizeof__', '__dir__', '__class__']\n"
     ]
    }
   ],
   "source": [
    "print(tag.__dir__())"
   ]
  },
  {
   "cell_type": "code",
   "execution_count": 122,
   "id": "bf1fdac4",
   "metadata": {},
   "outputs": [
    {
     "name": "stdout",
     "output_type": "stream",
     "text": [
      "<class 'function'> player_five\n"
     ]
    }
   ],
   "source": [
    "print(tag.__class__, tag.__name__) # tag 는 결국 player_five 함수 자체라는것을 알 수 있습니다."
   ]
  },
  {
   "cell_type": "code",
   "execution_count": 100,
   "id": "d269562d",
   "metadata": {},
   "outputs": [
    {
     "name": "stdout",
     "output_type": "stream",
     "text": [
      "(<cell at 0x7f148fd15be0: str object at 0x7f14a409c9e0>, <cell at 0x7f148ffc5460: str object at 0x7f148feb3a80>)\n"
     ]
    }
   ],
   "source": [
    "print(tag.__closure__)"
   ]
  },
  {
   "cell_type": "code",
   "execution_count": 101,
   "id": "742eab38",
   "metadata": {},
   "outputs": [
    {
     "name": "stdout",
     "output_type": "stream",
     "text": [
      "['__repr__', '__hash__', '__getattribute__', '__lt__', '__le__', '__eq__', '__ne__', '__gt__', '__ge__', '__iter__', '__len__', '__getitem__', '__add__', '__mul__', '__rmul__', '__contains__', '__new__', '__getnewargs__', 'index', 'count', '__doc__', '__str__', '__setattr__', '__delattr__', '__init__', '__reduce_ex__', '__reduce__', '__subclasshook__', '__init_subclass__', '__format__', '__sizeof__', '__dir__', '__class__']\n"
     ]
    }
   ],
   "source": [
    "print(tag.__closure__.__dir__())"
   ]
  },
  {
   "cell_type": "code",
   "execution_count": 105,
   "id": "f0ac96a9",
   "metadata": {},
   "outputs": [
    {
     "name": "stdout",
     "output_type": "stream",
     "text": [
      "<class 'tuple'>\n"
     ]
    }
   ],
   "source": [
    "print(type(tag.__closure__))"
   ]
  },
  {
   "cell_type": "code",
   "execution_count": 103,
   "id": "1c94d5e0",
   "metadata": {},
   "outputs": [
    {
     "name": "stdout",
     "output_type": "stream",
     "text": [
      "<cell at 0x7f148fd15be0: str object at 0x7f14a409c9e0>\n"
     ]
    }
   ],
   "source": [
    "print(tag.__closure__[0])"
   ]
  },
  {
   "cell_type": "code",
   "execution_count": 107,
   "id": "bc7078ed",
   "metadata": {},
   "outputs": [
    {
     "name": "stdout",
     "output_type": "stream",
     "text": [
      "<class 'cell'>\n"
     ]
    }
   ],
   "source": [
    "print(type(tag.__closure__[0]))"
   ]
  },
  {
   "cell_type": "code",
   "execution_count": 109,
   "id": "76077641",
   "metadata": {},
   "outputs": [
    {
     "name": "stdout",
     "output_type": "stream",
     "text": [
      "['__repr__', '__getattribute__', '__lt__', '__le__', '__eq__', '__ne__', '__gt__', '__ge__', '__new__', 'cell_contents', '__doc__', '__hash__', '__str__', '__setattr__', '__delattr__', '__init__', '__reduce_ex__', '__reduce__', '__subclasshook__', '__init_subclass__', '__format__', '__sizeof__', '__dir__', '__class__']\n"
     ]
    }
   ],
   "source": [
    "print(tag.__closure__[0].__dir__())"
   ]
  },
  {
   "cell_type": "code",
   "execution_count": 110,
   "id": "88d960ff",
   "metadata": {},
   "outputs": [
    {
     "name": "stdout",
     "output_type": "stream",
     "text": [
      "------player joined----\n"
     ]
    }
   ],
   "source": [
    "print(tag.__closure__[0].cell_contents)"
   ]
  },
  {
   "cell_type": "code",
   "execution_count": 111,
   "id": "35d68428",
   "metadata": {},
   "outputs": [
    {
     "name": "stdout",
     "output_type": "stream",
     "text": [
      "------player exited----\n"
     ]
    }
   ],
   "source": [
    "print(tag.__closure__[1].cell_contents)"
   ]
  },
  {
   "cell_type": "markdown",
   "id": "835a4b28",
   "metadata": {},
   "source": [
    "* 아하.. ```cell_contents``` 라는곳에 값이 저장이 되어 있습니다.\n",
    "* 클로저는 어떤 함수를 함수 자신이 가지고 있는 환경과 함께 저장한 레코드입니다.\n",
    "* 함수가 가진 프리변수 (free variable)를 클로져가 만들어지는 당시의 값과 레퍼런스 (cell_contents)에 저장합니다.\n",
    "* 즉 클로져는 일반 함수와는 다르게, 자신의 영역 밖에서 호출된 함수의 변수값과 레퍼런스를 복사, 저장 후 이를 엑세스할 수 있게 해줍니다.\n",
    "* 클로져를 사용하면 아래처럼 함수를 가지고 놀 수 있습니다:"
   ]
  },
  {
   "cell_type": "code",
   "execution_count": 124,
   "id": "5483cd96",
   "metadata": {},
   "outputs": [],
   "source": [
    "def pretty_print3(dec):\n",
    "    decoration = dec\n",
    "    \n",
    "    def shazam(text):\n",
    "        doc = text\n",
    "        print(f'{dec} {doc} {dec}')\n",
    "    \n",
    "    return shazam"
   ]
  },
  {
   "cell_type": "code",
   "execution_count": 125,
   "id": "b2f2073e",
   "metadata": {},
   "outputs": [],
   "source": [
    "cool_deco = pretty_print3('~*~*~*~')\n",
    "nice_deco = pretty_print3('!!!___!!!')\n",
    "amazing_deco = pretty_print3('^~~~^')"
   ]
  },
  {
   "cell_type": "code",
   "execution_count": 150,
   "id": "56ef2558",
   "metadata": {},
   "outputs": [
    {
     "name": "stdout",
     "output_type": "stream",
     "text": [
      "~*~*~*~ damn this text is fancy ~*~*~*~\n",
      "\n",
      "!!!___!!! damn this text is fancy !!!___!!!\n",
      "\n",
      "^~~~^ damn this text is fancy ^~~~^\n"
     ]
    }
   ],
   "source": [
    "text = 'damn this text is fancy'\n",
    "cool_deco(text)\n",
    "print() # 걍 이쁘게 보이기 위해서 라인 추가\n",
    "nice_deco(text)\n",
    "print()\n",
    "amazing_deco(text)"
   ]
  },
  {
   "cell_type": "markdown",
   "id": "e1334061",
   "metadata": {},
   "source": [
    "* 자바스크립트에서 말하는 일급 객체, 클로져가 이런것입니다.\n",
    "* 이렇게 파이썬도 자바스크립트처럼 함수형 프로그래밍을 지원합니다!"
   ]
  },
  {
   "cell_type": "markdown",
   "id": "b299e337",
   "metadata": {},
   "source": [
    "### 1.3.4. 데코레이터 (@)\n",
    "* 좀 많이 돌아온 감이 없잖아 있지만, 이제 진짜 데코레이터가 어떻게 동작되는지 한번 살펴보겠습니다."
   ]
  },
  {
   "cell_type": "code",
   "execution_count": 140,
   "id": "6015fa14",
   "metadata": {},
   "outputs": [],
   "source": [
    "def printing(f):\n",
    "    def join_and_exit():\n",
    "        print('------player joined----')\n",
    "        f()\n",
    "        print('------player exited----')\n",
    "    return join_and_exit"
   ]
  },
  {
   "cell_type": "code",
   "execution_count": 142,
   "id": "59156c53",
   "metadata": {},
   "outputs": [],
   "source": [
    "def player_sa():\n",
    "    print('4p')"
   ]
  },
  {
   "cell_type": "code",
   "execution_count": 143,
   "id": "b8145b5b",
   "metadata": {},
   "outputs": [],
   "source": [
    "wow = printing(player_sa)"
   ]
  },
  {
   "cell_type": "code",
   "execution_count": 145,
   "id": "164a66dc",
   "metadata": {},
   "outputs": [
    {
     "name": "stdout",
     "output_type": "stream",
     "text": [
      "------player joined----\n",
      "4p\n",
      "------player exited----\n"
     ]
    }
   ],
   "source": [
    "wow()"
   ]
  },
  {
   "cell_type": "markdown",
   "id": "95631bd2",
   "metadata": {},
   "source": [
    "* 우리는 이제 이 함수가 어떻게 작성이 되어 있는지 보입니다.\n",
    "* ```player_sa``` 라는 함수가 일급객체 취급이 되어 ```printing``` 이라는 고차함수의 인자로 들어갔으며,\n",
    "* 고차함수 ```printing``` 안의 함수 ```join_and_exit``` 함수가 아무 인자를 받지 않는데도 불구하고\n",
    "* 상위 함수로부터 받은 인자 ```f```를 받아서 처리 하고 있습니다.\n",
    "* 실로 일급객체와 클로져가 잘 버무려진 함수가 아닐 수 없습니다.\n",
    "* 이걸 ```@``` 형식으로 적용하면 어떻게 될까요?"
   ]
  },
  {
   "cell_type": "code",
   "execution_count": 146,
   "id": "6db33bc3",
   "metadata": {},
   "outputs": [],
   "source": [
    "@printing\n",
    "def player_six():\n",
    "    print('6p')"
   ]
  },
  {
   "cell_type": "code",
   "execution_count": 147,
   "id": "9cf8a9db",
   "metadata": {},
   "outputs": [
    {
     "name": "stdout",
     "output_type": "stream",
     "text": [
      "------player joined----\n",
      "6p\n",
      "------player exited----\n"
     ]
    }
   ],
   "source": [
    "player_six()"
   ]
  },
  {
   "cell_type": "markdown",
   "id": "df0302a2",
   "metadata": {},
   "source": [
    "* 아 별거 없습니다, 우리가 만든 고차함수 printing을 그냥 ```@printing```으로 적어버리면 되는겁니다.\n",
    "* 위의 코드와 비교하면, 고차함수 ```printing```에 ```player_sa```함수를 인자로 넘긴것을 ```wow```라는 변수로 받고,\n",
    "* 그 ```wow```를 실행시킨것을 ```@printing``` 하나로 처리 해버린것입니다.\n",
    "* 이제 데코레이터를 배우기 위해 왜 일급객체와 클로져가 필요한지 이해가 가셨나요?\n",
    "* 다음시간엔 더 깊숙히 데코레이터의 심연으로 다이브 해 봅시다."
   ]
  },
  {
   "cell_type": "code",
   "execution_count": null,
   "id": "44e675f4",
   "metadata": {},
   "outputs": [],
   "source": []
  }
 ],
 "metadata": {
  "kernelspec": {
   "display_name": "Python 3 (ipykernel)",
   "language": "python",
   "name": "python3"
  },
  "language_info": {
   "codemirror_mode": {
    "name": "ipython",
    "version": 3
   },
   "file_extension": ".py",
   "mimetype": "text/x-python",
   "name": "python",
   "nbconvert_exporter": "python",
   "pygments_lexer": "ipython3",
   "version": "3.8.10"
  }
 },
 "nbformat": 4,
 "nbformat_minor": 5
}

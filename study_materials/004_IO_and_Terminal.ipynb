{
 "cells": [
  {
   "cell_type": "markdown",
   "id": "3b8b1e5d",
   "metadata": {},
   "source": [
    "# 1. 파일 입출력 (I / O) "
   ]
  },
  {
   "cell_type": "markdown",
   "id": "0cb98ac6",
   "metadata": {},
   "source": [
    "* 파일 입출력이라는 개념을 먼저 알기전에 간단한 CS 지식을 살펴보겠습니다.\n",
    "* 우리는 키보드로 입력하고 모니터로 입력한 정보를 출력하고 있습니다.\n",
    "* 키보드의 전기신호가 CPU와 RAM에 의해 처리가 되어 출력장치인 모니터로 신호를 보내 우리가 화면을 볼 수 있습니다.\n",
    "* 이러한 input / output을 도와주는것이 스트림 (Stream) 이라는 것 입니다.\n",
    "* 스트림은 모든 입출력장치에 사용됩니다. 모니터 뿐만 아니라 프린터, 마우스, 네트워크, 메모리, 하드디스크 등등 많은 하드웨어 장치들이 스트림을 사용합니다.\n",
    "* 이러한 스트림은 운영체제단에서 관리가 됩니다."
   ]
  },
  {
   "cell_type": "markdown",
   "id": "a8fb6643",
   "metadata": {},
   "source": [
    "<img src='https://img1.daumcdn.net/thumb/R1280x0/?scode=mtistory2&fname=https%3A%2F%2Fblog.kakaocdn.net%2Fdn%2F9Mpj5%2FbtqzkQqkKMx%2FeB9hVJe6pyqkHMpe6avoJ0%2Fimg.png'>"
   ]
  },
  {
   "cell_type": "markdown",
   "id": "d87573fb",
   "metadata": {},
   "source": [
    "* 우리가 파이썬에서 ```print()``` 코드를 작성하면, 데이터는 입력스트림에 의해 메모리에 저장이 되고, 출력스트림에 의해 모니터로 출력됩니다.\n",
    "* 하지만 작성한 코드가 종료되면 ```print()``` 로 출력된 데이터는 사라지게 됩니다. (왤까요??)\n",
    "* 즉 우리가 어떠한 데이터를 저장하고 싶으면 출력스트림을 저장소 (SSD, HDD)와 연결하여 데이터를 출력해야 합니다.\n",
    "* 파이썬에서 이러한 스트림을 제어해주는 함수가 바로 ```open()```, ```close()``` 가 되겠습니다."
   ]
  },
  {
   "cell_type": "code",
   "execution_count": 3,
   "id": "e78b6e26",
   "metadata": {},
   "outputs": [],
   "source": [
    "# 기본 아웃스트림 제어 (Output Stream)\n",
    "text = 'Lorem ipsum dolor sit amet, consectetur adipiscing elit, sed do eiusmod tempor incididunt ut labore et dolore magna aliqua. Ut enim ad minim veniam, quis nostrud exercitation ullamco laboris nisi ut aliquip ex ea commodo consequat. Duis aute irure dolor in reprehenderit in voluptate velit esse cillum dolore eu fugiat nulla pariatur. Excepteur sint occaecat cupidatat non proident, sunt in culpa qui officia deserunt mollit anim id est laborum.'\n",
    "out_stream = open('./ipsum', 'w')\n",
    "out_stream.write(text)\n",
    "out_stream.close()"
   ]
  },
  {
   "cell_type": "code",
   "execution_count": 5,
   "id": "9da03785",
   "metadata": {},
   "outputs": [
    {
     "name": "stdout",
     "output_type": "stream",
     "text": [
      "Lorem ipsum dolor sit amet, consectetur adipiscing elit, sed do eiusmod tempor incididunt ut labore et dolore magna aliqua. Ut enim ad minim veniam, quis nostrud exercitation ullamco laboris nisi ut aliquip ex ea commodo consequat. Duis aute irure dolor in reprehenderit in voluptate velit esse cillum dolore eu fugiat nulla pariatur. Excepteur sint occaecat cupidatat non proident, sunt in culpa qui officia deserunt mollit anim id est laborum.\n"
     ]
    }
   ],
   "source": [
    "# 기본 인스트림 제어 (Input Stream)\n",
    "in_stream = open('./ipsum', 'r')\n",
    "data = in_stream.readline()\n",
    "print(data)\n",
    "in_stream.close()"
   ]
  },
  {
   "cell_type": "code",
   "execution_count": 46,
   "id": "c046cba7",
   "metadata": {},
   "outputs": [],
   "source": [
    "# 기본 아웃스트림 제어 2\n",
    "text2 = [x for x in text.split(' ')]\n",
    "out_stream = open('./ipsum2', 'w', newline='\\n')\n",
    "out_stream.writelines(text2)\n",
    "out_stream.close()"
   ]
  },
  {
   "cell_type": "code",
   "execution_count": 44,
   "id": "b1a32556",
   "metadata": {},
   "outputs": [
    {
     "name": "stdout",
     "output_type": "stream",
     "text": [
      "['x\\n', 'xx\\n', 'xxx\\n', 'xxxx\\n', 'xxxxx\\n', 'xxxxxx\\n', 'xxxxxxx']\n",
      "x\n",
      "\n",
      "xx\n",
      "\n",
      "xxx\n",
      "\n",
      "xxxx\n",
      "\n",
      "xxxxx\n",
      "\n",
      "xxxxxx\n",
      "\n",
      "xxxxxxx\n"
     ]
    }
   ],
   "source": [
    "# 기본 인스트림 제어 2\n",
    "in_stream = open('./xfile', 'r')\n",
    "data = in_stream.readlines()\n",
    "print(data)\n",
    "for datum in data:\n",
    "    print(datum)\n",
    "in_stream.close()"
   ]
  },
  {
   "cell_type": "code",
   "execution_count": 34,
   "id": "753714e7",
   "metadata": {},
   "outputs": [],
   "source": [
    "# 기본 스트림 제어 3\n",
    "data = 'xxxxxxxX'\n",
    "with open('./xfile', 'a') as f:\n",
    "    f.write('\\n')\n",
    "    f.write(data)"
   ]
  },
  {
   "cell_type": "code",
   "execution_count": 52,
   "id": "161d8b78",
   "metadata": {},
   "outputs": [],
   "source": [
    "# 다른 파일 형식의 스트림 제어\n",
    "import csv\n",
    "my_list = [1,2,3,4,5,6,6,7,8,9,10]\n",
    "with open('./sample.csv', 'w') as f:\n",
    "    head = csv.DictWriter(f, fieldnames=['data'])\n",
    "    data = csv.writer(f, delimiter='\\n')\n",
    "    head.writeheader()\n",
    "    data.writerow(my_list)"
   ]
  },
  {
   "cell_type": "code",
   "execution_count": 53,
   "id": "4c8a74b0",
   "metadata": {},
   "outputs": [],
   "source": [
    "to_append = ['a','b','c','d','e','f','g']\n",
    "with open('./sample.csv', 'a') as f:\n",
    "    data = csv.writer(f, delimiter='\\n')\n",
    "    data.writerow(to_append)"
   ]
  },
  {
   "cell_type": "code",
   "execution_count": 65,
   "id": "545c5074",
   "metadata": {},
   "outputs": [],
   "source": [
    "# 다른 파일 형식의 스트림 제어 2\n",
    "import json\n",
    "your_dict = {'one':1, 'two':2, 'three':3}\n",
    "with open('./sample.json', 'w') as f:\n",
    "    json.dump(your_dict, f, indent=4)"
   ]
  },
  {
   "cell_type": "code",
   "execution_count": 81,
   "id": "c73bddcd",
   "metadata": {},
   "outputs": [
    {
     "data": {
      "text/plain": [
       "<_io.BytesIO at 0x7f777dc14ea0>"
      ]
     },
     "execution_count": 81,
     "metadata": {},
     "output_type": "execute_result"
    }
   ],
   "source": [
    "import io\n",
    "io.StringIO()\n",
    "io.BytesIO()    "
   ]
  },
  {
   "cell_type": "markdown",
   "id": "fc8f39b5",
   "metadata": {},
   "source": [
    "# 2. 버퍼"
   ]
  },
  {
   "cell_type": "markdown",
   "id": "d93633db",
   "metadata": {},
   "source": [
    "* 위에서 살펴 보앗듯이 아웃스트림을 이용해 외부기억장치에 저장된 데이터는 ```read()```를 이용해 불러 올 수 있었습니다.\n",
    "* 파이썬은 아래 3개의 함수를 사용해 파일을 읽을 수 있습니다:\n",
    "    1. ```read()``` 파일의 전체 내용을 읽어와 하나의 문자열로 사용한다.\n",
    "    2. ```readlines()``` 파일의 전체 내용을 읽어와서 라인 단위로 잘라 문자열의 리스트로 만들 수 있다.\n",
    "    3. ```readline()``` 파일의 내용을 한줄씩 읽어와 처리한다.\n",
    "* 실제로는 ```readline()```을 제일 많이 사용하며, 대체적으로 ```for ... in ...``` 구문으로 한줄씩 데이터를 읽어드립니다.\n",
    "* 이러면 한 줄 단위로 데이터가 처리되기 때문에 메모리 낭비가 없으며 메모리가 터질일이 없습니다.\n",
    "* 하지만 읽어들이는 데이터가 내 컴퓨터의 메모리보다 크고 개행문자('\\n') 가 없어서 한줄씩 읽을수가 없다면?\n",
    "* 이러한 파일들은 한번에 처리할 수 없기때문에 일정 이상의 크기 (bytes, megabyte 등의 단위)로 잘라서 읽어야 합니다.\n",
    "* 이렇게 데이터를 일정한 크기로 잘라내 임시로 보관하는것을 버퍼 (buffer) 라고 합니다."
   ]
  },
  {
   "cell_type": "code",
   "execution_count": null,
   "id": "e555810f",
   "metadata": {},
   "outputs": [],
   "source": []
  }
 ],
 "metadata": {
  "kernelspec": {
   "display_name": "Python 3 (ipykernel)",
   "language": "python",
   "name": "python3"
  },
  "language_info": {
   "codemirror_mode": {
    "name": "ipython",
    "version": 3
   },
   "file_extension": ".py",
   "mimetype": "text/x-python",
   "name": "python",
   "nbconvert_exporter": "python",
   "pygments_lexer": "ipython3",
   "version": "3.8.10"
  }
 },
 "nbformat": 4,
 "nbformat_minor": 5
}

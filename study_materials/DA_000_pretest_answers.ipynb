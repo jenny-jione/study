{
 "cells": [
  {
   "cell_type": "markdown",
   "id": "fdc17d51",
   "metadata": {},
   "source": [
    "# 사전 점검 답안"
   ]
  },
  {
   "cell_type": "markdown",
   "id": "ad85af52",
   "metadata": {},
   "source": [
    "## 1. 자가 문항 테스트 설명"
   ]
  },
  {
   "cell_type": "markdown",
   "id": "7c37eae2",
   "metadata": {},
   "source": [
    "### 1. 나는 파이썬과 주피터 노트북을 스스로 설치할 수 있으며, 이 둘의 차이점을 이해한다.\n",
    "* 파이썬은 다목적 프로그래밍 언어입니다. 컴퓨터에 설치되어 사용자가 이 언어를 사용하여 각종 명령을 할 수 있습니다.\n",
    "* 파이썬을 설치하여 파이썬으로 작성된 파일을 실행시키거나, 터미널 (윈도우의 경우 CMD)이나 내장 Shell 인 IDEL 을 사용하여 파이썬으로 명령어를 실행시킬 수 있습니다.\n",
    "* 주피터 노트북은 웹에서 파이썬을 사용할 수 있게 제공해주는 프로그램입니다.\n",
    "* 지금 보고 있는 화면이 주피터 노트북이고, 노트북 안의 하나의 셸에 파이썬 코드를 작성하여 해당 셸을 실행시켜 파이썬 코드를 동작시킬 수 있습니다.\n",
    "* 중요한점은 주피터 노트북 자체가 파이썬이 아닙니다. 주피터 노트북 프로그램을 설치하면 같이 딸려오는것이 파이썬 언어입니다."
   ]
  },
  {
   "cell_type": "markdown",
   "id": "7a0176f5",
   "metadata": {},
   "source": [
    "### 2. 나는 파이썬의 가상환경 개념을 이해하고, 왜 사용하는지 설명할 수 있다.\n",
    "* 거의 모든 프로그래밍 언어에는 컴퓨터를 제어하거나 다른 기능을 사용하기 위해 언어 자체가 제공, 혹은 다른 사람들이 만든 라이브러리나 패키지의 설치를 할 때가 있습니다. (ex. pandas, numpy, scikit-learn...)\n",
    "* 처음 파이썬을 설치하면 사용되는 환경을 Base 환경이라 하며, Base 환경에서 라이브러리를 설치하면 해당 라이브러리들은 Base 환경에 종속됩니다.\n",
    "* 라이브러리들은 다른 의존성 패키지들이 사용되어 제작되는 경우가 많은데, 설치한 라이브러리의 규모가 커지면서 라이브러리들 끼리 충돌하여 코드가 제대로 작동하지 못하는 경우가 있습니다.\n",
    "* 그것을 방지하기 위해 가상환경이라는 일종의 격리된 파이썬 구동 환경을 만들고, 그곳에서 해당 패키지를 구동하는데 필요한 라이브러리만 설치하여, 코드의 안정된 작동을 보장해주는게 가상환경입니다."
   ]
  },
  {
   "cell_type": "markdown",
   "id": "84049baa",
   "metadata": {},
   "source": [
    "### 3. 나는 pip 과 conda의 차이점을 설명할 수 있다.\n",
    "* pip과 conda 둘다 모두 현재 사용중인 가상환경 (혹은 base 환경) 에만 필요한 라이브러리 및 패키지를 설치하는 도구입니다.\n",
    "* pip은 공식 파이썬 패키지 관리자이며, 파이썬의 정식 지원을 받는 패키지만 관리하지만, conda는 Anaconda가 제공하고 지원을 하는 패키지만 관리하는 패키지 관리자입니다.\n",
    "* conda 는 파이썬 뿐만 아니라 c, java 등의 다른 언어로 작성된 패키지들을 또한 관리를 해줍니다.\n",
    "* conda는 이는 딥러닝, HDF5, LLVM 같은 순수 파이썬으로 작성되지 않고, 구동되는데 다른 라이브러리가 필요한 패키지들 또한 포함해서 관리를 합니다.\n",
    "* 그래서 딥러닝과 데이터분석 진영에서는 conda 를 조금 더 많이 활용하지만, 우리 회사는 이식성을 위해 pip으로 통일을 권장합니다. "
   ]
  },
  {
   "cell_type": "markdown",
   "id": "c8fa9fa6",
   "metadata": {},
   "source": [
    "### 4. 나는 1 과 '1' 의 차이점이 무엇인지 알고 있으며, 어떤것이 더 빠른지 알고 있다.\n",
    "* 위 둘의 차이점은 1은 정수 (integer), '1'은 문자열 (string) 이라는 것 입니다.\n",
    "* 컴퓨터에서는 원시자료형 (primitive type) 과 참조 자료형 (reference type) 이 있습니다.\n",
    "* 일반적으로 원시자료형은 메모리의 stack 영역, 참조 자료형은 heap 영역에 저장됩니다.\n",
    "* 더 깊은 내용은 CS 내용임으로 넘어가지만, stack 메모리에 저장된 데이터들의 속도가 훨씬 빠릅니다.\n",
    "* 즉, 일반적으로는 원시 자료형 데이터들의 속도가 더 빠릅니다.\n",
    "* 하지만 파이썬은 원시 자료형을 제공하지 않습니다. 모든것은 객체이며, 이들은 모두 참조 자료형입니다.\n",
    "* 그렇기때문에 파이썬에서 정수와 문자열 차이에서 오는 속도차는 거의 없으며, 문자열을 정수형으로 바꿔 처리하는 작업 또한 오히려 연산에 overhead 를 줍니다.\n",
    "    * ex: ```if '1' in some_list```  보다, ```if int('1') in some_list``` 의 속도가 더 느립니다."
   ]
  },
  {
   "cell_type": "markdown",
   "id": "26fc1e8b",
   "metadata": {},
   "source": [
    "### 5. 나는 파이썬 파일을 만들어서 해당 파일을 실행시킬 수 있다.\n",
    "* 앞으로 공부하시면서 파이썬 파일을 만들어 실행시키는 방법을 배우게 될 것입니다."
   ]
  },
  {
   "cell_type": "markdown",
   "id": "12167378",
   "metadata": {},
   "source": [
    "## 2. 사전 테스트 답안"
   ]
  },
  {
   "cell_type": "code",
   "execution_count": 2,
   "id": "8c7e3cc7",
   "metadata": {},
   "outputs": [
    {
     "data": {
      "text/plain": [
       "2"
      ]
     },
     "execution_count": 2,
     "metadata": {},
     "output_type": "execute_result"
    }
   ],
   "source": [
    "1 + True"
   ]
  },
  {
   "cell_type": "code",
   "execution_count": 3,
   "id": "df35cc4a",
   "metadata": {},
   "outputs": [
    {
     "data": {
      "text/plain": [
       "True"
      ]
     },
     "execution_count": 3,
     "metadata": {},
     "output_type": "execute_result"
    }
   ],
   "source": [
    "not False"
   ]
  },
  {
   "cell_type": "code",
   "execution_count": 4,
   "id": "431be810",
   "metadata": {},
   "outputs": [
    {
     "data": {
      "text/plain": [
       "'1312'"
      ]
     },
     "execution_count": 4,
     "metadata": {},
     "output_type": "execute_result"
    }
   ],
   "source": [
    "str(13) + '12'"
   ]
  },
  {
   "cell_type": "code",
   "execution_count": 5,
   "id": "b1e03690",
   "metadata": {},
   "outputs": [
    {
     "data": {
      "text/plain": [
       "1"
      ]
     },
     "execution_count": 5,
     "metadata": {},
     "output_type": "execute_result"
    }
   ],
   "source": [
    "int(1.6)"
   ]
  },
  {
   "cell_type": "code",
   "execution_count": 8,
   "id": "da8863fd",
   "metadata": {},
   "outputs": [
    {
     "data": {
      "text/plain": [
       "843.0"
      ]
     },
     "execution_count": 8,
     "metadata": {},
     "output_type": "execute_result"
    }
   ],
   "source": [
    "float(843)"
   ]
  },
  {
   "cell_type": "code",
   "execution_count": 7,
   "id": "050243e2",
   "metadata": {},
   "outputs": [
    {
     "data": {
      "text/plain": [
       "'king'"
      ]
     },
     "execution_count": 7,
     "metadata": {},
     "output_type": "execute_result"
    }
   ],
   "source": [
    "'kingsan'[:4]"
   ]
  },
  {
   "cell_type": "code",
   "execution_count": null,
   "id": "a4523019",
   "metadata": {},
   "outputs": [],
   "source": []
  }
 ],
 "metadata": {
  "kernelspec": {
   "display_name": "Python 3 (ipykernel)",
   "language": "python",
   "name": "python3"
  },
  "language_info": {
   "codemirror_mode": {
    "name": "ipython",
    "version": 3
   },
   "file_extension": ".py",
   "mimetype": "text/x-python",
   "name": "python",
   "nbconvert_exporter": "python",
   "pygments_lexer": "ipython3",
   "version": "3.8.10"
  }
 },
 "nbformat": 4,
 "nbformat_minor": 5
}

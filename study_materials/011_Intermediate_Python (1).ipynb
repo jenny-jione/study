{
 "cells": [
  {
   "cell_type": "markdown",
   "metadata": {},
   "source": [
    "# 1. 중급자를 위한 파이썬 "
   ]
  },
  {
   "cell_type": "markdown",
   "metadata": {},
   "source": [
    "* 인터넷에는 다양한 파이썬 강좌들이 있습니다\n",
    "* 하지만 많은 강좌들은 기본 개념적인 설명외엔 실제 예제가 조금 빈약한 부분이 없잖아 있습니다.\n",
    "* 한번 실제 예제를 보면서 살펴보도록 합시다."
   ]
  },
  {
   "cell_type": "markdown",
   "metadata": {},
   "source": [
    "## 1.1. 사용자 정의 자료형 ( OOP extension )"
   ]
  },
  {
   "cell_type": "markdown",
   "metadata": {},
   "source": [
    "### 1.1.1. 클래스의 정의"
   ]
  },
  {
   "cell_type": "markdown",
   "metadata": {},
   "source": [
    "* 객체는 다른말로 사용자 정의 데이터라고 배웠습니다.\n",
    "* 파이썬의 기본 데이터 타입으로는 리스트, 튜블, 딕셔너리 등이 있습니다.\n",
    "* 하지만 우리는 OOP를 배우면서 클래스로써 우리가 정의한 데이터 형식을 만들 수 있다고 배웠습니다.\n",
    "* 아래의 회원' 이라는 사용자 정의 데이터 타입의 예제를 살펴봅시다:"
   ]
  },
  {
   "cell_type": "code",
   "execution_count": 2,
   "metadata": {},
   "outputs": [],
   "source": [
    "import datetime\n",
    "\n",
    "class Member:\n",
    "    def __init__(self, firstname: str, lastname: str, userid: str, birthday: datetime, email: str) -> None:\n",
    "        self.__firstname = firstname\n",
    "        self.__lastname = lastname\n",
    "        self.__birthday = birthday\n",
    "        \n",
    "        self.__id = userid\n",
    "        self.__email = email\n",
    "        \n",
    "        \n",
    "    def __repr__(self) -> str:\n",
    "        return str(self.__dict__)\n",
    "        \n",
    "    def __str__(self) -> str:\n",
    "        return f'{self.__firstname} {self.__lastname}, born in {self.__birthday}'"
   ]
  },
  {
   "cell_type": "code",
   "execution_count": 244,
   "metadata": {},
   "outputs": [],
   "source": [
    "member_one = Member('Kingsan','Yoon', 'mark01', datetime.date(1989, 2, 22), 'ksyun@markcloud.co.kr')"
   ]
  },
  {
   "cell_type": "code",
   "execution_count": 245,
   "metadata": {},
   "outputs": [
    {
     "data": {
      "text/plain": [
       "{'_Member__firstname': 'Kingsan', '_Member__lastname': 'Yoon', '_Member__birthday': datetime.date(1989, 2, 22), '_Member__id': 'mark01', '_Member__email': 'ksyun@markcloud.co.kr'}"
      ]
     },
     "execution_count": 245,
     "metadata": {},
     "output_type": "execute_result"
    }
   ],
   "source": [
    "member_one"
   ]
  },
  {
   "cell_type": "code",
   "execution_count": 246,
   "metadata": {},
   "outputs": [
    {
     "name": "stdout",
     "output_type": "stream",
     "text": [
      "Kingsan Yoon, born in 1989-02-22\n"
     ]
    }
   ],
   "source": [
    "print(member_one)"
   ]
  },
  {
   "cell_type": "code",
   "execution_count": 247,
   "metadata": {},
   "outputs": [
    {
     "data": {
      "text/plain": [
       "{'_Member__firstname': 'Kingsan',\n",
       " '_Member__lastname': 'Yoon',\n",
       " '_Member__birthday': datetime.date(1989, 2, 22),\n",
       " '_Member__id': 'mark01',\n",
       " '_Member__email': 'ksyun@markcloud.co.kr'}"
      ]
     },
     "execution_count": 247,
     "metadata": {},
     "output_type": "execute_result"
    }
   ],
   "source": [
    "member_one.__dict__"
   ]
  },
  {
   "cell_type": "markdown",
   "metadata": {},
   "source": [
    "* 기본적인 회원 정보를 저장하는 데이터 타입닙니다.\n",
    "* ```__str__``` 과 ```__repr__``` 를 우리가 정의해서 해당 객체를 print 및 그냥 실행 시켰을 시 특정 동작을 하게끔 구성하였습니다.\n",
    "* 아래와 같이 다시 정보를 추가해 볼까요?"
   ]
  },
  {
   "cell_type": "code",
   "execution_count": 270,
   "metadata": {},
   "outputs": [],
   "source": [
    "class Member:\n",
    "    def __init__(self, firstname: str, lastname: str, userid: str, birthday: datetime, email: str) -> None:\n",
    "        self.__firstname = firstname\n",
    "        self.__lastname = lastname\n",
    "        self.__birthday = birthday\n",
    "        \n",
    "        self.__id = userid\n",
    "        self.__email = email\n",
    "        self.__age = 'CLASSIFIED'\n",
    "        \n",
    "    \n",
    "    def age(self):\n",
    "        if hasattr(self, \"__age\"):\n",
    "            return self.__age\n",
    "        \n",
    "        today = datetime.date.today()\n",
    "        age = today.year - self.__birthday.year\n",
    "\n",
    "        if today < datetime.date(today.year, self.__birthday.month, self.__birthday.day):\n",
    "            age -= 1\n",
    "\n",
    "        self.__age = age\n",
    "        return age\n",
    "    \n",
    "    \n",
    "    def __repr__(self):\n",
    "        return str(self.__dict__)\n",
    "        \n",
    "    def __str__(self):\n",
    "        return f'{self.__firstname} {self.__lastname} with age {self.__age}'"
   ]
  },
  {
   "cell_type": "code",
   "execution_count": 271,
   "metadata": {},
   "outputs": [],
   "source": [
    "member_two = Member('Kingsan','Yoon', 'mark01', datetime.date(1989, 2, 22), 'ksyun@markcloud.co.kr')"
   ]
  },
  {
   "cell_type": "code",
   "execution_count": 272,
   "metadata": {},
   "outputs": [
    {
     "name": "stdout",
     "output_type": "stream",
     "text": [
      "Kingsan Yoon with age CLASSIFIED\n"
     ]
    }
   ],
   "source": [
    "print(member_two)"
   ]
  },
  {
   "cell_type": "code",
   "execution_count": 273,
   "metadata": {},
   "outputs": [
    {
     "data": {
      "text/plain": [
       "{'_Member__firstname': 'Kingsan',\n",
       " '_Member__lastname': 'Yoon',\n",
       " '_Member__birthday': datetime.date(1989, 2, 22),\n",
       " '_Member__id': 'mark01',\n",
       " '_Member__email': 'ksyun@markcloud.co.kr',\n",
       " '_Member__age': 'CLASSIFIED'}"
      ]
     },
     "execution_count": 273,
     "metadata": {},
     "output_type": "execute_result"
    }
   ],
   "source": [
    "member_two.__dict__"
   ]
  },
  {
   "cell_type": "code",
   "execution_count": 274,
   "metadata": {},
   "outputs": [
    {
     "data": {
      "text/plain": [
       "33"
      ]
     },
     "execution_count": 274,
     "metadata": {},
     "output_type": "execute_result"
    }
   ],
   "source": [
    "member_two.age()"
   ]
  },
  {
   "cell_type": "code",
   "execution_count": 275,
   "metadata": {},
   "outputs": [
    {
     "name": "stdout",
     "output_type": "stream",
     "text": [
      "Kingsan Yoon with age 33\n"
     ]
    }
   ],
   "source": [
    "print(member_two)"
   ]
  },
  {
   "cell_type": "code",
   "execution_count": 276,
   "metadata": {},
   "outputs": [
    {
     "data": {
      "text/plain": [
       "{'_Member__firstname': 'Kingsan',\n",
       " '_Member__lastname': 'Yoon',\n",
       " '_Member__birthday': datetime.date(1989, 2, 22),\n",
       " '_Member__id': 'mark01',\n",
       " '_Member__email': 'ksyun@markcloud.co.kr',\n",
       " '_Member__age': 33}"
      ]
     },
     "execution_count": 276,
     "metadata": {},
     "output_type": "execute_result"
    }
   ],
   "source": [
    "member_two.__dict__"
   ]
  },
  {
   "cell_type": "markdown",
   "metadata": {},
   "source": [
    "* 위에 정의한것 처럼 age() 함수를 사용하여 기존에 없던 인스턴트의 속성을 정의 할 수도 있습니다.\n",
    "* 이렇듯 파이썬이 제공을 해 주는 기본 내장 함수들로 우리가 원하는 자료형을 구축할 수 있습니다."
   ]
  },
  {
   "cell_type": "markdown",
   "metadata": {},
   "source": [
    "### 1.1.2. 매직메서드"
   ]
  },
  {
   "cell_type": "markdown",
   "metadata": {},
   "source": [
    "* 위의 예제에서 특이한 메서드들을 많이 봤습니다.\n",
    "* ```__str__```, ```__repr__```, ```hasattr```, ```__dict__``` 등 우리가 어디선가 본 메서드들이 많이 있습니다.\n",
    "* 매직메서드 들은 ```__``` 로 시작하고 끝납니다.\n",
    "* 그럼 파이썬의 기본 내장 메서드들을 조금 더 알아볼까요?"
   ]
  },
  {
   "cell_type": "markdown",
   "metadata": {},
   "source": [
    "* 모든 객체는 최상위 object class를 상속받습니다.\n",
    "* 즉 우리가 class 라고 정의를 하면 object 클래스들의 메서드를 자동으로 상속 받는다 생각하면 되겠습니다.\n",
    "* 매직메서드 ```__dir__```을 사용하여 object 클래스에 어떤 메서드들이 있는지 확인해볼까요?"
   ]
  },
  {
   "cell_type": "code",
   "execution_count": 210,
   "metadata": {},
   "outputs": [
    {
     "data": {
      "text/plain": [
       "['__repr__',\n",
       " '__hash__',\n",
       " '__str__',\n",
       " '__getattribute__',\n",
       " '__setattr__',\n",
       " '__delattr__',\n",
       " '__lt__',\n",
       " '__le__',\n",
       " '__eq__',\n",
       " '__ne__',\n",
       " '__gt__',\n",
       " '__ge__',\n",
       " '__init__',\n",
       " '__new__',\n",
       " '__reduce_ex__',\n",
       " '__reduce__',\n",
       " '__subclasshook__',\n",
       " '__init_subclass__',\n",
       " '__format__',\n",
       " '__sizeof__',\n",
       " '__dir__',\n",
       " '__class__',\n",
       " '__doc__']"
      ]
     },
     "execution_count": 210,
     "metadata": {},
     "output_type": "execute_result"
    }
   ],
   "source": [
    "obj = object()\n",
    "obj.__dir__()"
   ]
  },
  {
   "cell_type": "markdown",
   "metadata": {},
   "source": [
    "* 위의 매직 메서드들이 우리가 class를 생성할때 자동적으로 상속이 되는 메서드들 입니다.\n",
    "* 위 매직 메서드들을 개발자가 원하는대로 기능을 수정 (override 와 비슷) 하여 사용할 수 있습니다.\n",
    "* 아래의 예제를 보면서 object 클래스를 조금 더 이해해볼까요?"
   ]
  },
  {
   "cell_type": "code",
   "execution_count": 79,
   "metadata": {},
   "outputs": [],
   "source": [
    "class Member:\n",
    "    def __init__(self, firstname: str, lastname: str, userid: str, birthday: datetime, email: str) -> None:\n",
    "        self.__firstname = firstname\n",
    "        self.__lastname = lastname\n",
    "        self.__birthday = birthday\n",
    "        \n",
    "        self.__id = userid\n",
    "        self.__email = email\n",
    "        self.__age = 'CLASSIFIED'\n",
    "        \n",
    "    \n",
    "    def age(self):\n",
    "        if hasattr(self, \"__age\"):\n",
    "            return self.__age\n",
    "        \n",
    "        today = datetime.date.today()\n",
    "        age = today.year - self.__birthday.year\n",
    "\n",
    "        if today < datetime.date(today.year, self.__birthday.month, self.__birthday.day):\n",
    "            age -= 1\n",
    "\n",
    "        self.__age = age\n",
    "        return age\n",
    "    \n",
    "    \n",
    "    def __repr__(self):\n",
    "        return str(self.__dict__)\n",
    "        \n",
    "    def __str__(self):\n",
    "        return f'{self.__firstname} {self.__lastname} with age {self.__age}'"
   ]
  },
  {
   "cell_type": "code",
   "execution_count": 80,
   "metadata": {},
   "outputs": [],
   "source": [
    "class Member2(object):\n",
    "    def __init__(self, firstname: str, lastname: str, userid: str, birthday: datetime, email: str) -> None:\n",
    "        self.__firstname = firstname\n",
    "        self.__lastname = lastname\n",
    "        self.__birthday = birthday\n",
    "        \n",
    "        self.__id = userid\n",
    "        self.__email = email\n",
    "        self.__age = 'CLASSIFIED'\n",
    "        \n",
    "    \n",
    "    def age(self):\n",
    "        if hasattr(self, \"__age\"):\n",
    "            return self.__age\n",
    "        \n",
    "        today = datetime.date.today()\n",
    "        age = today.year - self.__birthday.year\n",
    "\n",
    "        if today < datetime.date(today.year, self.__birthday.month, self.__birthday.day):\n",
    "            age -= 1\n",
    "\n",
    "        self.__age = age\n",
    "        return age\n",
    "    \n",
    "    \n",
    "    def __repr__(self):\n",
    "        return str(self.__dict__)\n",
    "        \n",
    "    def __str__(self):\n",
    "        return f'{self.__firstname} {self.__lastname} with age {self.__age}'"
   ]
  },
  {
   "cell_type": "code",
   "execution_count": 81,
   "metadata": {},
   "outputs": [
    {
     "data": {
      "text/plain": [
       "['_Member__firstname',\n",
       " '_Member__lastname',\n",
       " '_Member__birthday',\n",
       " '_Member__id',\n",
       " '_Member__email',\n",
       " '_Member__age',\n",
       " '__module__',\n",
       " '__init__',\n",
       " 'age',\n",
       " '__repr__',\n",
       " '__str__',\n",
       " '__dict__',\n",
       " '__weakref__',\n",
       " '__doc__',\n",
       " '__hash__',\n",
       " '__getattribute__',\n",
       " '__setattr__',\n",
       " '__delattr__',\n",
       " '__lt__',\n",
       " '__le__',\n",
       " '__eq__',\n",
       " '__ne__',\n",
       " '__gt__',\n",
       " '__ge__',\n",
       " '__new__',\n",
       " '__reduce_ex__',\n",
       " '__reduce__',\n",
       " '__subclasshook__',\n",
       " '__init_subclass__',\n",
       " '__format__',\n",
       " '__sizeof__',\n",
       " '__dir__',\n",
       " '__class__']"
      ]
     },
     "execution_count": 81,
     "metadata": {},
     "output_type": "execute_result"
    }
   ],
   "source": [
    "m = Member('Kingsan','Yoon', 'mark01', datetime.date(1989, 2, 22), 'ksyun@markcloud.co.kr')\n",
    "m.__dir__()"
   ]
  },
  {
   "cell_type": "code",
   "execution_count": 82,
   "metadata": {},
   "outputs": [
    {
     "data": {
      "text/plain": [
       "['_Member2__firstname',\n",
       " '_Member2__lastname',\n",
       " '_Member2__birthday',\n",
       " '_Member2__id',\n",
       " '_Member2__email',\n",
       " '_Member2__age',\n",
       " '__module__',\n",
       " '__init__',\n",
       " 'age',\n",
       " '__repr__',\n",
       " '__str__',\n",
       " '__dict__',\n",
       " '__weakref__',\n",
       " '__doc__',\n",
       " '__hash__',\n",
       " '__getattribute__',\n",
       " '__setattr__',\n",
       " '__delattr__',\n",
       " '__lt__',\n",
       " '__le__',\n",
       " '__eq__',\n",
       " '__ne__',\n",
       " '__gt__',\n",
       " '__ge__',\n",
       " '__new__',\n",
       " '__reduce_ex__',\n",
       " '__reduce__',\n",
       " '__subclasshook__',\n",
       " '__init_subclass__',\n",
       " '__format__',\n",
       " '__sizeof__',\n",
       " '__dir__',\n",
       " '__class__']"
      ]
     },
     "execution_count": 82,
     "metadata": {},
     "output_type": "execute_result"
    }
   ],
   "source": [
    "m2 = Member2('Kingsan','Yoon', 'mark01', datetime.date(1989, 2, 22), 'ksyun@markcloud.co.kr')\n",
    "m2.__dir__()"
   ]
  },
  {
   "cell_type": "markdown",
   "metadata": {},
   "source": [
    "* ```m``` 과 ```m2``` 는 동일한 객체임을 확인 할 수 있습니다!"
   ]
  },
  {
   "cell_type": "markdown",
   "metadata": {},
   "source": [
    "### 1.1.3. 매직메서드와 파이썬 내장함수를 활용하여 데이터 클래스 만들기\n",
    "* 우리가 만든 member를 이제 변형해볼까요?"
   ]
  },
  {
   "cell_type": "code",
   "execution_count": 83,
   "metadata": {},
   "outputs": [],
   "source": [
    "class Member:\n",
    "    def __init__(self, firstname: str, lastname: str, userid: str, birthday: datetime, email: str) -> None:\n",
    "        setattr(self, '__firstname', firstname)\n",
    "        setattr(self, '__lastname', lastname)\n",
    "        setattr(self, '__userid', userid)\n",
    "        \n",
    "        setattr(self, '__birthday', birthday)\n",
    "        setattr(self, '__email', email)\n",
    "        setattr(self, '__age', 'CLASSIFIED')\n",
    "        \n",
    "    \n",
    "    def age(self):\n",
    "        if hasattr(self, \"__age\"):\n",
    "            return self.__age\n",
    "        \n",
    "        today = datetime.date.today()\n",
    "        age = today.year - self.__birthday.year\n",
    "\n",
    "        if today < datetime.date(today.year, self.__birthday.month, self.__birthday.day):\n",
    "            age -= 1\n",
    "\n",
    "        self.__age = age\n",
    "        return age\n",
    "    \n",
    "    \n",
    "    def __repr__(self):\n",
    "        return str(self.__dict__)\n",
    "        \n",
    "    def __str__(self):\n",
    "        return f'{self.__firstname} {self.__lastname} with age {self.__age}'"
   ]
  },
  {
   "cell_type": "code",
   "execution_count": 84,
   "metadata": {},
   "outputs": [],
   "source": [
    "member_three = Member('hongsam','Yoon', 'mark03', datetime.date(1989, 2, 22), 'hsyun@markcloud.co.kr')"
   ]
  },
  {
   "cell_type": "code",
   "execution_count": 85,
   "metadata": {},
   "outputs": [
    {
     "data": {
      "text/plain": [
       "{'__firstname': 'hongsam', '__lastname': 'Yoon', '__userid': 'mark03', '__birthday': datetime.date(1989, 2, 22), '__email': 'hsyun@markcloud.co.kr', '__age': 'CLASSIFIED'}"
      ]
     },
     "execution_count": 85,
     "metadata": {},
     "output_type": "execute_result"
    }
   ],
   "source": [
    "member_three"
   ]
  },
  {
   "cell_type": "code",
   "execution_count": 86,
   "metadata": {},
   "outputs": [
    {
     "ename": "AttributeError",
     "evalue": "'Member' object has no attribute '_Member__firstname'",
     "output_type": "error",
     "traceback": [
      "\u001b[0;31m---------------------------------------------------------------------------\u001b[0m",
      "\u001b[0;31mAttributeError\u001b[0m                            Traceback (most recent call last)",
      "\u001b[0;32m/tmp/ipykernel_229225/2346115836.py\u001b[0m in \u001b[0;36m<module>\u001b[0;34m\u001b[0m\n\u001b[0;32m----> 1\u001b[0;31m \u001b[0mprint\u001b[0m\u001b[0;34m(\u001b[0m\u001b[0mmember_three\u001b[0m\u001b[0;34m)\u001b[0m\u001b[0;34m\u001b[0m\u001b[0;34m\u001b[0m\u001b[0m\n\u001b[0m",
      "\u001b[0;32m/tmp/ipykernel_229225/1106444835.py\u001b[0m in \u001b[0;36m__str__\u001b[0;34m(self)\u001b[0m\n\u001b[1;32m     28\u001b[0m \u001b[0;34m\u001b[0m\u001b[0m\n\u001b[1;32m     29\u001b[0m     \u001b[0;32mdef\u001b[0m \u001b[0m__str__\u001b[0m\u001b[0;34m(\u001b[0m\u001b[0mself\u001b[0m\u001b[0;34m)\u001b[0m\u001b[0;34m:\u001b[0m\u001b[0;34m\u001b[0m\u001b[0;34m\u001b[0m\u001b[0m\n\u001b[0;32m---> 30\u001b[0;31m         \u001b[0;32mreturn\u001b[0m \u001b[0;34mf'{self.__firstname} {self.__lastname} with age {self.__age}'\u001b[0m\u001b[0;34m\u001b[0m\u001b[0;34m\u001b[0m\u001b[0m\n\u001b[0m",
      "\u001b[0;31mAttributeError\u001b[0m: 'Member' object has no attribute '_Member__firstname'"
     ]
    }
   ],
   "source": [
    "print(member_three)"
   ]
  },
  {
   "cell_type": "markdown",
   "metadata": {},
   "source": [
    "* ```self.firstname = firstname``` 과 ```setattr``` 내장 함수는 거의 동일한 기능을 합니다.\n",
    "* 하지만 ```setattr```함수는 더블 언더스코어 ( __ ) 을 사용할때 맹글링 (mangling) 을 수행하지 않습니다.\n",
    "* 파이썬에서는 더블 언더스코어가 붙은 변수명은 인터프리터가 자동으로 클래스간 속성명의 충돌을 방지하기 위해 이름의 규칙을 변형해줍니다.\n",
    "* 더블 언더스코어가 붙으면 파이썬은 자동으로 해당 속성의 이름을 ```_클래스이름__속성이름``` 으로 변환해줍니다.\n",
    "* 계속해서 이 매직메서드를 가지고 놀아봅시다"
   ]
  },
  {
   "cell_type": "code",
   "execution_count": 176,
   "metadata": {},
   "outputs": [],
   "source": [
    "class Member:\n",
    "    def __init__(self, firstname: str, lastname: str, userid: str, birthday: datetime, email: str) -> None:\n",
    "        setattr(self, '__firstname', firstname)\n",
    "        setattr(self, '__lastname', lastname)\n",
    "        setattr(self, '__userid', userid)\n",
    "        \n",
    "        setattr(self, '__birthday', birthday)\n",
    "        setattr(self, '__email', email)\n",
    "        setattr(self, '__age', 'CLASSIFIED')\n",
    "        \n",
    "    \n",
    "    def age(self):\n",
    "        if hasattr(self, \"__age\"):\n",
    "            return self.__age\n",
    "        \n",
    "        today = datetime.date.today()\n",
    "        age = today.year - self.__birthday.year\n",
    "\n",
    "        if today < datetime.date(today.year, self.__birthday.month, self.__birthday.day):\n",
    "            age -= 1\n",
    "\n",
    "        self.__age = age\n",
    "        return age\n",
    "        \n",
    "    \n",
    "    def __repr__(self):\n",
    "        return str(self.__dict__)\n",
    "        \n",
    "    def __str__(self):\n",
    "        return f'{self.__firstname} {self.__lastname} with age {self.__age}'"
   ]
  },
  {
   "cell_type": "code",
   "execution_count": 177,
   "metadata": {},
   "outputs": [],
   "source": [
    "member_four = Member('Wangsan','Yoon', 'mark04', datetime.date(1989, 2, 22), 'wsyun@markcloud.co.kr')"
   ]
  },
  {
   "cell_type": "markdown",
   "metadata": {},
   "source": [
    "* 기본적으로 setattr 메서드를 사용하여 이렇게 속성을 부여 할 수 있습니다."
   ]
  },
  {
   "cell_type": "code",
   "execution_count": 90,
   "metadata": {},
   "outputs": [],
   "source": [
    "member_four.__address = 'seoul'"
   ]
  },
  {
   "cell_type": "markdown",
   "metadata": {},
   "source": [
    "* getattr 는 이렇게 사용됩니다."
   ]
  },
  {
   "cell_type": "code",
   "execution_count": 91,
   "metadata": {},
   "outputs": [
    {
     "data": {
      "text/plain": [
       "'seoul'"
      ]
     },
     "execution_count": 91,
     "metadata": {},
     "output_type": "execute_result"
    }
   ],
   "source": [
    "member_four.__address"
   ]
  },
  {
   "cell_type": "markdown",
   "metadata": {},
   "source": [
    "* ```__dict__ ``` 를 사용하여 새로운 attribute가 추가된것을 확인 할 수 있죠?"
   ]
  },
  {
   "cell_type": "code",
   "execution_count": 92,
   "metadata": {},
   "outputs": [
    {
     "data": {
      "text/plain": [
       "{'__firstname': 'Wangsan',\n",
       " '__lastname': 'Yoon',\n",
       " '__userid': 'mark04',\n",
       " '__birthday': datetime.date(1989, 2, 22),\n",
       " '__email': 'wsyun@markcloud.co.kr',\n",
       " '__age': 'CLASSIFIED',\n",
       " '__address': 'seoul'}"
      ]
     },
     "execution_count": 92,
     "metadata": {},
     "output_type": "execute_result"
    }
   ],
   "source": [
    "member_four.__dict__"
   ]
  },
  {
   "cell_type": "markdown",
   "metadata": {},
   "source": [
    "* 만약 없는 속성을 getattr 로 불러드리려고 한다면?"
   ]
  },
  {
   "cell_type": "code",
   "execution_count": 93,
   "metadata": {},
   "outputs": [
    {
     "ename": "AttributeError",
     "evalue": "'Member' object has no attribute '__phonenumber'",
     "output_type": "error",
     "traceback": [
      "\u001b[0;31m---------------------------------------------------------------------------\u001b[0m",
      "\u001b[0;31mAttributeError\u001b[0m                            Traceback (most recent call last)",
      "\u001b[0;32m/tmp/ipykernel_229225/3578518218.py\u001b[0m in \u001b[0;36m<module>\u001b[0;34m\u001b[0m\n\u001b[0;32m----> 1\u001b[0;31m \u001b[0mmember_four\u001b[0m\u001b[0;34m.\u001b[0m\u001b[0m__phonenumber\u001b[0m\u001b[0;34m\u001b[0m\u001b[0;34m\u001b[0m\u001b[0m\n\u001b[0m",
      "\u001b[0;31mAttributeError\u001b[0m: 'Member' object has no attribute '__phonenumber'"
     ]
    }
   ],
   "source": [
    "member_four.__phonenumber"
   ]
  },
  {
   "cell_type": "markdown",
   "metadata": {},
   "source": [
    "* 당연히 에러가 납니다\n",
    "* 그럼 본격적으로 매직메서드를 가지고 내가 원하는 사용자 정의 데이터를 만들어봅시다."
   ]
  },
  {
   "cell_type": "code",
   "execution_count": 20,
   "metadata": {},
   "outputs": [],
   "source": [
    "import datetime\n",
    "\n",
    "class Member:\n",
    "    def __init__(self, firstname: str, lastname: str, userid: str, birthday: datetime, email: str) -> None:\n",
    "        self.__firstname = firstname\n",
    "        self.__lastname = lastname\n",
    "        self.__birthday = birthday\n",
    "        \n",
    "        self.__id = userid\n",
    "        self.__email = email\n",
    "        self.__age = 'CLASSIFIED'\n",
    "        \n",
    "        \n",
    "    \n",
    "    def age(self):\n",
    "        # __getattr__ 의 변경으로 인해 아래 부분은 주석처리\n",
    "        # if hasattr(self, \"__age\"):\n",
    "        #     print('has!!!!!!!!!!!')\n",
    "        #     return self.__age\n",
    "        \n",
    "        today = datetime.date.today()\n",
    "        age = today.year - self.__birthday.year\n",
    "\n",
    "        if today < datetime.date(today.year, self.__birthday.month, self.__birthday.day):\n",
    "            age -= 1\n",
    "\n",
    "        self.__age = age\n",
    "        return age\n",
    "        \n",
    "        \n",
    "#    만약에 없는 속성이 추가된다면 에러를 띄우지 않고 그냥 기본값을 넣어버리도록 수정\n",
    "    def __getattr__(self, attr):\n",
    "        setattr(self, f'{attr}', None)\n",
    "        return f'{attr} added'\n",
    "    \n",
    "    \n",
    "    def __eq__(self, x: 'Member') -> bool:\n",
    "        return self.__firstname == x.__firstname and \\\n",
    "               self.__lastname == x.__lastname and \\\n",
    "               self.__age == x.__age\n",
    "    \n",
    "    def __ne__(self, x: 'Member') -> bool:\n",
    "        return not self == x\n",
    "\n",
    "    def __lt__(self, x: 'Member.__age') -> bool:\n",
    "        return True if self.__age < x.__age else False\n",
    "\n",
    "    def __gt__(self, x: 'Member.__age') -> bool:\n",
    "        return True if self.__age > x.__age else False\n",
    "    \n",
    "    def __le__(self, x: 'Member.__age') -> bool:\n",
    "        return True if self.__age <= x.__age else False\n",
    "\n",
    "    def __ge__(self, x: 'Member.__age') -> bool:\n",
    "        return True if self.__age >= x.__age else False    \n",
    "    \n",
    "\n",
    "    def __repr__(self):\n",
    "        return str(self.__dict__)\n",
    "        \n",
    "    def __str__(self):\n",
    "        return f'{self.__firstname} {self.__lastname} with age {self.__age}'"
   ]
  },
  {
   "cell_type": "code",
   "execution_count": 21,
   "metadata": {},
   "outputs": [],
   "source": [
    "member_five = Member('park','you', 'mark05', datetime.date(1989, 2, 22), 'parku@markcloud.co.kr')"
   ]
  },
  {
   "cell_type": "code",
   "execution_count": 22,
   "metadata": {},
   "outputs": [
    {
     "data": {
      "text/plain": [
       "'__phonenumber added'"
      ]
     },
     "execution_count": 22,
     "metadata": {},
     "output_type": "execute_result"
    }
   ],
   "source": [
    "member_five.__phonenumber"
   ]
  },
  {
   "cell_type": "code",
   "execution_count": 23,
   "metadata": {},
   "outputs": [
    {
     "data": {
      "text/plain": [
       "{'_Member__firstname': 'park',\n",
       " '_Member__lastname': 'you',\n",
       " '_Member__birthday': datetime.date(1989, 2, 22),\n",
       " '_Member__id': 'mark05',\n",
       " '_Member__email': 'parku@markcloud.co.kr',\n",
       " '_Member__age': 'CLASSIFIED',\n",
       " '__phonenumber': None}"
      ]
     },
     "execution_count": 23,
     "metadata": {},
     "output_type": "execute_result"
    }
   ],
   "source": [
    "member_five.__dict__"
   ]
  },
  {
   "cell_type": "code",
   "execution_count": 24,
   "metadata": {},
   "outputs": [],
   "source": [
    "member_six = Member('park','you', 'mark06', datetime.date(1989, 2, 22), 'upark@markcloud.co.kr')"
   ]
  },
  {
   "cell_type": "code",
   "execution_count": 25,
   "metadata": {},
   "outputs": [
    {
     "data": {
      "text/plain": [
       "{'_Member__firstname': 'park',\n",
       " '_Member__lastname': 'you',\n",
       " '_Member__birthday': datetime.date(1989, 2, 22),\n",
       " '_Member__id': 'mark06',\n",
       " '_Member__email': 'upark@markcloud.co.kr',\n",
       " '_Member__age': 'CLASSIFIED'}"
      ]
     },
     "execution_count": 25,
     "metadata": {},
     "output_type": "execute_result"
    }
   ],
   "source": [
    "member_six.__dict__"
   ]
  },
  {
   "cell_type": "code",
   "execution_count": 26,
   "metadata": {},
   "outputs": [
    {
     "data": {
      "text/plain": [
       "True"
      ]
     },
     "execution_count": 26,
     "metadata": {},
     "output_type": "execute_result"
    }
   ],
   "source": [
    "member_five == member_six"
   ]
  },
  {
   "cell_type": "code",
   "execution_count": 27,
   "metadata": {},
   "outputs": [
    {
     "data": {
      "text/plain": [
       "33"
      ]
     },
     "execution_count": 27,
     "metadata": {},
     "output_type": "execute_result"
    }
   ],
   "source": [
    "member_five.age()"
   ]
  },
  {
   "cell_type": "code",
   "execution_count": 28,
   "metadata": {},
   "outputs": [
    {
     "data": {
      "text/plain": [
       "33"
      ]
     },
     "execution_count": 28,
     "metadata": {},
     "output_type": "execute_result"
    }
   ],
   "source": [
    "member_six.age()"
   ]
  },
  {
   "cell_type": "code",
   "execution_count": 29,
   "metadata": {},
   "outputs": [
    {
     "data": {
      "text/plain": [
       "{'_Member__firstname': 'park',\n",
       " '_Member__lastname': 'you',\n",
       " '_Member__birthday': datetime.date(1989, 2, 22),\n",
       " '_Member__id': 'mark05',\n",
       " '_Member__email': 'parku@markcloud.co.kr',\n",
       " '_Member__age': 33,\n",
       " '__phonenumber': None}"
      ]
     },
     "execution_count": 29,
     "metadata": {},
     "output_type": "execute_result"
    }
   ],
   "source": [
    "member_five.__dict__"
   ]
  },
  {
   "cell_type": "code",
   "execution_count": 30,
   "metadata": {},
   "outputs": [
    {
     "data": {
      "text/plain": [
       "{'_Member__firstname': 'park',\n",
       " '_Member__lastname': 'you',\n",
       " '_Member__birthday': datetime.date(1989, 2, 22),\n",
       " '_Member__id': 'mark06',\n",
       " '_Member__email': 'upark@markcloud.co.kr',\n",
       " '_Member__age': 33}"
      ]
     },
     "execution_count": 30,
     "metadata": {},
     "output_type": "execute_result"
    }
   ],
   "source": [
    "member_six.__dict__"
   ]
  },
  {
   "cell_type": "markdown",
   "metadata": {},
   "source": [
    "## 1.2. ARGS, KWARGS\n",
    "* 함수를 보시면 ```*args```, ```**kwargs``` 같은 인자를 본 적이 있을겁니다.\n",
    "* 이것들은 뭘 하는걸까요? 알아봅시다."
   ]
  },
  {
   "cell_type": "markdown",
   "metadata": {},
   "source": [
    "### 1.2.1. CASE 1: args, kwargs 를 사용하지 않을때"
   ]
  },
  {
   "cell_type": "markdown",
   "metadata": {},
   "source": [
    "* 우리는 보통 함수에 파라메터를 넣을때 아래와 같이 사용하곤 합니다."
   ]
  },
  {
   "cell_type": "code",
   "execution_count": 31,
   "metadata": {},
   "outputs": [],
   "source": [
    "def my_fx(value):\n",
    "    return f'{value} is returned!'"
   ]
  },
  {
   "cell_type": "code",
   "execution_count": 33,
   "metadata": {},
   "outputs": [
    {
     "data": {
      "text/plain": [
       "'rand val is returned!'"
      ]
     },
     "execution_count": 33,
     "metadata": {},
     "output_type": "execute_result"
    }
   ],
   "source": [
    "my_fx('rand val')"
   ]
  },
  {
   "cell_type": "markdown",
   "metadata": {},
   "source": [
    "* 하지만 아래처럼 여러개의 파라메터가 함수에 넣어져야 한다면 어떨까요?"
   ]
  },
  {
   "cell_type": "code",
   "execution_count": 34,
   "metadata": {},
   "outputs": [],
   "source": [
    "def your_fx(key, value, option, name, age, gender, food):\n",
    "    mydict = {}\n",
    "    mydict['key'] = key\n",
    "    mydict['value'] = value\n",
    "    mydict['option'] = option\n",
    "    mydict['name'] = name\n",
    "    mydict['age'] = age\n",
    "    mydict['gender'] = gender\n",
    "    mydict['food'] = food\n",
    "    return mydict"
   ]
  },
  {
   "cell_type": "code",
   "execution_count": 35,
   "metadata": {},
   "outputs": [
    {
     "data": {
      "text/plain": [
       "{'key': '1',\n",
       " 'value': '2',\n",
       " 'option': 3,\n",
       " 'name': 'gangsan',\n",
       " 'age': '33',\n",
       " 'gender': 'male',\n",
       " 'food': 'good'}"
      ]
     },
     "execution_count": 35,
     "metadata": {},
     "output_type": "execute_result"
    }
   ],
   "source": [
    "your_fx('1', '2', 3, 'gangsan', '33', 'male', 'good')"
   ]
  },
  {
   "cell_type": "markdown",
   "metadata": {},
   "source": [
    "* 작동은 하는데 너무 귀찮습니다. 개발자는 반복되는 작업을 줄이는것이 최고으 덕목입니다.\n",
    "* 이런 귀찮은짓을 하지 않게 하는 키워드가 바로 ```args``` 가 되겠습니다."
   ]
  },
  {
   "cell_type": "markdown",
   "metadata": {},
   "source": [
    "### 1.2.2. args 사용"
   ]
  },
  {
   "cell_type": "code",
   "execution_count": 38,
   "metadata": {},
   "outputs": [],
   "source": [
    "def their_fx(*args):\n",
    "    print(args)\n",
    "    \n",
    "    mydict = {}\n",
    "    mydict['key'] = args[0]\n",
    "    mydict['value'] = args[1]\n",
    "    mydict['option'] = args[2]\n",
    "    mydict['name'] = args[3]\n",
    "    mydict['age'] = args[4]\n",
    "    mydict['gender'] = args[5]\n",
    "    mydict['food'] = args[6]\n",
    "    return mydict"
   ]
  },
  {
   "cell_type": "code",
   "execution_count": 40,
   "metadata": {},
   "outputs": [
    {
     "name": "stdout",
     "output_type": "stream",
     "text": [
      "('1', '2', 3, 'gangsan', '33', 'male', 'good', 'not used')\n"
     ]
    },
    {
     "data": {
      "text/plain": [
       "{'key': '1',\n",
       " 'value': '2',\n",
       " 'option': 3,\n",
       " 'name': 'gangsan',\n",
       " 'age': '33',\n",
       " 'gender': 'male',\n",
       " 'food': 'good'}"
      ]
     },
     "execution_count": 40,
     "metadata": {},
     "output_type": "execute_result"
    }
   ],
   "source": [
    "their_fx('1', '2', 3, 'gangsan', '33', 'male', 'good', 'not used')"
   ]
  },
  {
   "cell_type": "markdown",
   "metadata": {},
   "source": [
    "* 좀 나아졌습니다! 물론 파라메터가 들어갈 값을 정확히 알고 있다는 가정하에서는 말이지요..\n",
    "* 보는것과 같이 ```*args```를 사용하면 입력되는 파라메터의 제한이 없습니다.\n",
    "* 사용되지 않는 파라메터 또한 함수에 영향을 주지 않습니다.\n",
    "* 하지만 아직 뭔가 부족한듯 합니다."
   ]
  },
  {
   "cell_type": "code",
   "execution_count": 52,
   "metadata": {},
   "outputs": [],
   "source": [
    "def our_fx(*args):\n",
    "    length = len(args)\n",
    "    mydict = {}\n",
    "    for i in range(length):\n",
    "        mydict[i] = args[i]\n",
    "        \n",
    "    return mydict"
   ]
  },
  {
   "cell_type": "code",
   "execution_count": 53,
   "metadata": {},
   "outputs": [
    {
     "data": {
      "text/plain": [
       "{0: 1, 1: 2, 2: 3, 3: 4, 4: 5, 5: 6, 6: 7, 7: 78}"
      ]
     },
     "execution_count": 53,
     "metadata": {},
     "output_type": "execute_result"
    }
   ],
   "source": [
    "our_fx(1,2,3,4,5,6,7, 78)"
   ]
  },
  {
   "cell_type": "markdown",
   "metadata": {},
   "source": [
    "* 좀 깔끔해 지긴 했는데, 아직 부족합니다.\n",
    "* 왜냐하면 키 값이 뭘 의미하는지 좀 애매하기 때문이지요.\n",
    "* 그렇기 때문에 ```**kwargs``` 라는 키워드가 존재하는 것입니다."
   ]
  },
  {
   "cell_type": "markdown",
   "metadata": {},
   "source": [
    "### 1.2.3. kwargs 사용"
   ]
  },
  {
   "cell_type": "code",
   "execution_count": 68,
   "metadata": {},
   "outputs": [],
   "source": [
    "def thee_fx(**kwargs):\n",
    "    print(kwargs)\n",
    "    \n",
    "    mydict={}\n",
    "    \n",
    "    for k, v in kwargs.items():\n",
    "        mydict[k] = str(v) + ' wow!'\n",
    "    return mydict"
   ]
  },
  {
   "cell_type": "code",
   "execution_count": 69,
   "metadata": {},
   "outputs": [
    {
     "name": "stdout",
     "output_type": "stream",
     "text": [
      "{'key': 1, 'value': 2, 'option': 3, 'name': 'gangsan', 'age': 23, 'gender': 'mail', 'food': 'yum'}\n"
     ]
    },
    {
     "data": {
      "text/plain": [
       "{'key': '1 wow!',\n",
       " 'value': '2 wow!',\n",
       " 'option': '3 wow!',\n",
       " 'name': 'gangsan wow!',\n",
       " 'age': '23 wow!',\n",
       " 'gender': 'mail wow!',\n",
       " 'food': 'yum wow!'}"
      ]
     },
     "execution_count": 69,
     "metadata": {},
     "output_type": "execute_result"
    }
   ],
   "source": [
    "thee_fx(key=1, value=2, option=3, name='gangsan', age=23, gender='mail', food='yum')"
   ]
  },
  {
   "cell_type": "markdown",
   "metadata": {},
   "source": [
    "* 이제 함수의 파라메터 입력 부분이 무한정 길어지는 불상사가 없어졌습니다!\n",
    "* 또한 kwargs는 아래처럼 입력이 가능합니다."
   ]
  },
  {
   "cell_type": "code",
   "execution_count": 72,
   "metadata": {},
   "outputs": [
    {
     "name": "stdout",
     "output_type": "stream",
     "text": [
      "{'key': 99, 'value': 20, 'option': True, 'name': 'gangsan', 'age': 23, 'gender': 'mail', 'food': 'yum'}\n"
     ]
    },
    {
     "data": {
      "text/plain": [
       "{'key': '99 wow!',\n",
       " 'value': '20 wow!',\n",
       " 'option': 'True wow!',\n",
       " 'name': 'gangsan wow!',\n",
       " 'age': '23 wow!',\n",
       " 'gender': 'mail wow!',\n",
       " 'food': 'yum wow!'}"
      ]
     },
     "execution_count": 72,
     "metadata": {},
     "output_type": "execute_result"
    }
   ],
   "source": [
    "input_params = {'key': 99, 'value': 20, 'option': True, 'name': 'gangsan', 'age': 23, 'gender': 'mail', 'food': 'yum'}\n",
    "thee_fx(**input_params)"
   ]
  },
  {
   "cell_type": "markdown",
   "metadata": {},
   "source": [
    "* 이런식으로 함수 파라메터에 딕셔너리 (혹은 json) 형식을 바로 넘겨줄 수 있습니다."
   ]
  },
  {
   "cell_type": "markdown",
   "metadata": {},
   "source": [
    "### 1.2.4. args, kwargs 혼용\n",
    "* 이런 args 와 kwargs의 특성때문에 어떤 인자값이 올지 모르는 함수를 작성할때는 args와 kwargs를 혼용합니다."
   ]
  },
  {
   "cell_type": "code",
   "execution_count": 93,
   "metadata": {},
   "outputs": [],
   "source": [
    "def thy_fx(*args, **kwargs):\n",
    "    print(args)\n",
    "    print(kwargs)"
   ]
  },
  {
   "cell_type": "code",
   "execution_count": 94,
   "metadata": {},
   "outputs": [
    {
     "name": "stdout",
     "output_type": "stream",
     "text": [
      "('a', 'b')\n",
      "{}\n"
     ]
    }
   ],
   "source": [
    "thy_fx('a','b')"
   ]
  },
  {
   "cell_type": "code",
   "execution_count": 95,
   "metadata": {},
   "outputs": [
    {
     "name": "stdout",
     "output_type": "stream",
     "text": [
      "(1, 3)\n",
      "{'value': 20, 'padding': 40}\n"
     ]
    }
   ],
   "source": [
    "thy_fx(1, 3, value=20, padding=40)"
   ]
  },
  {
   "cell_type": "code",
   "execution_count": 96,
   "metadata": {},
   "outputs": [
    {
     "name": "stdout",
     "output_type": "stream",
     "text": [
      "({'_Member__firstname': 'park', '_Member__lastname': 'you', '_Member__birthday': datetime.date(1989, 2, 22), '_Member__id': 'mark06', '_Member__email': 'upark@markcloud.co.kr', '_Member__age': 'CLASSIFIED'},)\n",
      "{}\n"
     ]
    }
   ],
   "source": [
    "thy_fx(Member('park','you', 'mark06', datetime.date(1989, 2, 22), 'upark@markcloud.co.kr'))"
   ]
  },
  {
   "cell_type": "code",
   "execution_count": 97,
   "metadata": {},
   "outputs": [
    {
     "name": "stdout",
     "output_type": "stream",
     "text": [
      "()\n",
      "{'_Member__firstname': 'park', '_Member__lastname': 'you', '_Member__birthday': datetime.date(1989, 2, 22), '_Member__id': 'mark06', '_Member__email': 'upark@markcloud.co.kr', '_Member__age': 'CLASSIFIED'}\n"
     ]
    }
   ],
   "source": [
    "a = thy_fx(**Member('park','you', 'mark06', datetime.date(1989, 2, 22), 'upark@markcloud.co.kr').__dict__)"
   ]
  }
 ],
 "metadata": {
  "kernelspec": {
   "display_name": "Python 3",
   "language": "python",
   "name": "python3"
  },
  "language_info": {
   "codemirror_mode": {
    "name": "ipython",
    "version": 3
   },
   "file_extension": ".py",
   "mimetype": "text/x-python",
   "name": "python",
   "nbconvert_exporter": "python",
   "pygments_lexer": "ipython3",
   "version": "3.7.3"
  }
 },
 "nbformat": 4,
 "nbformat_minor": 5
}

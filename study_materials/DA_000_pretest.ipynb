{
 "cells": [
  {
   "cell_type": "markdown",
   "id": "75900615",
   "metadata": {},
   "source": [
    "# 사전 점검"
   ]
  },
  {
   "cell_type": "markdown",
   "id": "04cfb591",
   "metadata": {},
   "source": [
    "## 1. 자가 문항 테스트\n",
    "* 본인이 얼마나 파이썬에 대해서 아는지 점검해보는 시간을 가져보도록 합시다"
   ]
  },
  {
   "cell_type": "markdown",
   "id": "ed92e3d2",
   "metadata": {},
   "source": [
    "1. 나는 파이썬과 주피터 노트북을 스스로 설치할 수 있으며, 이 둘의 차이점을 이해한다.\n",
    "2. 나는 파이썬의 가상환경 개념을 이해하고, 왜 사용하는지 설명할 수 있다.\n",
    "3. 나는 pip 과 conda의 차이점을 설명할 수 있다.\n",
    "4. 나는 1 과 '1' 의 차이점이 무엇인지 알고 있으며, 어떤것이 더 빠른지 알고있다. \n",
    "5. 나는 파이썬 파일을 만들어서 해당 파일을 실행시킬 수 있다."
   ]
  },
  {
   "cell_type": "markdown",
   "id": "998abba8",
   "metadata": {},
   "source": [
    "## 2. 사전 테스트\n",
    "* 아래 문제들을 실행시켰을때 반환되는 값을 적어보세요."
   ]
  },
  {
   "cell_type": "markdown",
   "id": "0780bf26",
   "metadata": {},
   "source": [
    "1 + True"
   ]
  },
  {
   "cell_type": "code",
   "execution_count": null,
   "id": "9fce9bf8",
   "metadata": {},
   "outputs": [],
   "source": []
  },
  {
   "cell_type": "markdown",
   "id": "6a4ace20",
   "metadata": {},
   "source": [
    "not False"
   ]
  },
  {
   "cell_type": "code",
   "execution_count": null,
   "id": "67846e56",
   "metadata": {},
   "outputs": [],
   "source": []
  },
  {
   "cell_type": "markdown",
   "id": "aec3e029",
   "metadata": {},
   "source": [
    "str(13) + '12'"
   ]
  },
  {
   "cell_type": "code",
   "execution_count": null,
   "id": "a3ff9fe6",
   "metadata": {},
   "outputs": [],
   "source": []
  },
  {
   "cell_type": "markdown",
   "id": "051086c1",
   "metadata": {},
   "source": [
    "int(1.6)"
   ]
  },
  {
   "cell_type": "code",
   "execution_count": null,
   "id": "e84856e2",
   "metadata": {},
   "outputs": [],
   "source": []
  },
  {
   "cell_type": "markdown",
   "id": "a6e00a68",
   "metadata": {},
   "source": [
    "float('843')"
   ]
  },
  {
   "cell_type": "code",
   "execution_count": null,
   "id": "09cb82d4",
   "metadata": {},
   "outputs": [],
   "source": []
  },
  {
   "cell_type": "markdown",
   "id": "9ae8cdba",
   "metadata": {},
   "source": [
    "'kingsan'[:4]"
   ]
  },
  {
   "cell_type": "code",
   "execution_count": null,
   "id": "bf4618f2",
   "metadata": {},
   "outputs": [],
   "source": []
  }
 ],
 "metadata": {
  "kernelspec": {
   "display_name": "Python 3 (ipykernel)",
   "language": "python",
   "name": "python3"
  },
  "language_info": {
   "codemirror_mode": {
    "name": "ipython",
    "version": 3
   },
   "file_extension": ".py",
   "mimetype": "text/x-python",
   "name": "python",
   "nbconvert_exporter": "python",
   "pygments_lexer": "ipython3",
   "version": "3.8.10"
  }
 },
 "nbformat": 4,
 "nbformat_minor": 5
}

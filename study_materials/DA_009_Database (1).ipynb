{
 "cells": [
  {
   "cell_type": "markdown",
   "id": "fe40da21",
   "metadata": {},
   "source": [
    "# 1. 데이터베이스"
   ]
  },
  {
   "cell_type": "markdown",
   "id": "8a3c12e0",
   "metadata": {},
   "source": [
    "## 1.1. DB? SQL? DBMS??"
   ]
  },
  {
   "cell_type": "markdown",
   "id": "bbaeb46d",
   "metadata": {},
   "source": [
    "### 1.1.1. 데이터베이스 (DB)"
   ]
  },
  {
   "cell_type": "markdown",
   "id": "b3735695",
   "metadata": {},
   "source": [
    "* 데이터베이스는 데이터를 저장만 하는 저장소입니다.\n",
    "* 데이터베이스 그 자체는 데이터의 저장, 불러오기 기능 말고는 별 다른 기능이 없습니다.\n",
    "* 우리의 하드디스크, 메모리, 하나의 메모장 파일, 공책, 심지어는 돌판또한 데이터를 저장할 수 있습니다.\n",
    "* 그런 의미에서 따지자면 위의 물건들 또한 데이터베이스가 될 수 있습니다."
   ]
  },
  {
   "cell_type": "markdown",
   "id": "a7f18275",
   "metadata": {},
   "source": [
    "### 1.1.2. DBMS (DataBase Management System)"
   ]
  },
  {
   "cell_type": "markdown",
   "id": "30278da2",
   "metadata": {},
   "source": [
    "* DBMS는 데이터베이스를 조작하는 미들웨어 (프로그램)을 의미합니다.\n",
    "* DBMS는 데이터가 저장되는 데이터들의 집합을 만들고 이를 관리할 수 있는 프로그램입니다.\n",
    "* 데이터의 CRUD (Create, Read, Update, Delete) 기능 및 정렬기능에 특화된 프로그램입니다.\n",
    "* MySql, MariaDB, PostgreSQL, MongoDB, ElasticSearch 등등 많이 들어본 프로그램들이 모두 DBMS입니다."
   ]
  },
  {
   "cell_type": "markdown",
   "id": "6ab0c170",
   "metadata": {},
   "source": [
    "### 1.1.3. SQL (Structured Query Language)"
   ]
  },
  {
   "cell_type": "markdown",
   "id": "939548c9",
   "metadata": {},
   "source": [
    "* SQL 은 관계형 데이터베이스 (RDBMS, Relational DataBase Management System) 의 자료를 처리하기 위해 만들어진 언어입니다.\n",
    "* SQL 은 ANSI 에서 제정한 표준문법을 기반으로 만들어져 있으나, DBMS들 마다 약간의 차이가 있습니다.\n",
    "* 그 중 PostgreSQL이 ANSI 표준문법을 제일 잘 따르고 있습니다."
   ]
  },
  {
   "cell_type": "markdown",
   "id": "955a8e0c",
   "metadata": {},
   "source": [
    "### 1.1.4. 정리"
   ]
  },
  {
   "cell_type": "markdown",
   "id": "8300d90a",
   "metadata": {},
   "source": [
    "* DB는 화물과 짐짝, 팔렛트들을 저장하는 창고\n",
    "* DBMS 는 화물과 짐을 옮기고 이동하는 크레인, 포크리프트, 호이스트 같은 기계들\n",
    "* SQL은 그 크레인과 포크리프트를 어떻게 사용해서 화물을 옮기라 명령하는 작업지시서\n",
    "* 라는 개념으로 생각하면 쉽겠습니다."
   ]
  },
  {
   "cell_type": "markdown",
   "id": "89756315",
   "metadata": {},
   "source": [
    "## 1.2. RDBMS vs NoSQL"
   ]
  },
  {
   "cell_type": "markdown",
   "id": "62f640f6",
   "metadata": {},
   "source": [
    "### 1.2.1. RDBMS"
   ]
  },
  {
   "cell_type": "markdown",
   "id": "74a73e80",
   "metadata": {},
   "source": [
    "* 콤퓨타가 없는 옛날부터 우리는 RDBMS를 이미 사용하고 있었습니다.\n",
    "* 표 (Table) 가 RDBMS의 좋은 예시입니다.\n",
    "* 행과 열이 있는 Matrix 구조는 모두 RDBMS라고 보시면 되겠습니다.\n",
    "* 가장 대중적이고, 가장 많이 쓰이는 데이터베이스입니다.\n",
    "* 엑셀이 가장 대중, 대표적인 RDBMS입니다."
   ]
  },
  {
   "cell_type": "markdown",
   "id": "d98e24e1",
   "metadata": {},
   "source": [
    "### 1.2.2. NoSQL"
   ]
  },
  {
   "cell_type": "markdown",
   "id": "42d36294",
   "metadata": {},
   "source": [
    "* RDBMS와 달리 엄격한 구조가 있지 않은 데이터베이스 입니다.\n",
    "* KV store (Redis), 문서형 DB (MongoDB) 등등 SQL을 사용하지 않는 모든 데이터 베이스를 칭합니다.\n",
    "* 정해놓은 형식의 표에 데이터가 정확히 저장되어야 하는 RDBMS 와 달리, NoSQL은 더 유연하게 데이터를 저장할 수 있습니다.\n",
    "* ```ex. List, Json 등등..```"
   ]
  },
  {
   "cell_type": "markdown",
   "id": "bca55e2c",
   "metadata": {},
   "source": [
    "### 1.2.3. 그래서 뭐가 더 좋은가?"
   ]
  },
  {
   "cell_type": "markdown",
   "id": "e466acc1",
   "metadata": {},
   "source": [
    "* 더 좋은 데이터베이스는 없습니다!\n",
    "* 내가 다루게 될 데이터, 저장해야할 객체에 맞춰서 데이터베이스를 선택하는것입니다.\n",
    "* 다만, 비교적 엄격하게 데이터의 무결성을 보장해야 한다면 RDBMS를 사용해야 합니다."
   ]
  },
  {
   "cell_type": "markdown",
   "id": "074533dd",
   "metadata": {},
   "source": [
    "# 2. 엑셀, Pandas DataFrame, CSV"
   ]
  },
  {
   "cell_type": "markdown",
   "id": "fdc0290c",
   "metadata": {},
   "source": [
    "## 2.1. 기본 개념"
   ]
  },
  {
   "cell_type": "markdown",
   "id": "5236b641",
   "metadata": {},
   "source": [
    "* 1. 번 항목을 읽었다면 결국 엑셀, DF, CSV들은 자료를 저장하고 있는 일종의 데이터베이스 라는것을 알 수 있습니다.\n",
    "* 엑셀파일, DF, CSV 파일에 저장이 되어 있는 데이터들을 처리하는것 시스템 (=프로그램) 이 바로 ```Python```, 엑셀 프로그램이 되겠습니다.\n",
    "* 좋은 DA가 되기 위해서 무조건 SQL을 능숙하게 다뤄야 하는것이 아닙니다!\n",
    "* 어떻게 하면 내가 원하는 자료를 빨리 추출하고, 취합하여 가공하는 능력이 DA 가 지녀야 할 스킬입니다.\n",
    "* 나는 Pandas로 작업을 하는게 더 편하다~ 하면 Pandas로, 엑셀로 작업이 편하다 하면 엑셀로 하면 됩니다.\n",
    "* 다만 SQL과 데이터베이스를 알아야 하는 이유는 큰 데이터 (Big Data)를 작업할때, 엑셀과 같은 상용 프로그램으로는 무리가 있으며,\n",
    "* Pandas 또한 컴퓨터의 메모리 한계가 있기때문에 큰 DF를 만들때 제한적일 수 있습니다."
   ]
  },
  {
   "cell_type": "markdown",
   "id": "a2a74852",
   "metadata": {},
   "source": [
    "## 2.2. 언제 SQL을 사용하는가?"
   ]
  },
  {
   "cell_type": "markdown",
   "id": "7368b1c6",
   "metadata": {},
   "source": [
    "* 엑셀은 테이블에 데이터가 5만개 이상 저장 되었을때부터 원활한 작업이 어렵습니다.\n",
    "* 내가 다뤄야 할 데이터가 내 컴퓨터의 메모리보다 클경우, 이 데이터들을 DF로 변환하기 어렵습니다.\n",
    "* ```(사내 컴퓨터들은 대부분 32GB의 메모리를 탑재하였습니다.)```\n",
    "* 참고로 현재 우리 마크뷰 한국 텍스트 데이터베이스의 크기는 460만개이며, 총 34GB입니다."
   ]
  },
  {
   "cell_type": "markdown",
   "id": "af26fb53",
   "metadata": {},
   "source": [
    "# 3. SQL"
   ]
  },
  {
   "cell_type": "markdown",
   "id": "fdd8e107",
   "metadata": {},
   "source": [
    "## 3.1. SQL 기본문법"
   ]
  },
  {
   "cell_type": "markdown",
   "id": "d6fbfb0b",
   "metadata": {},
   "source": [
    "### 3.1.1. DQL (Data Query Language) : 데이터 질의어"
   ]
  },
  {
   "cell_type": "markdown",
   "id": "e7e418ae",
   "metadata": {},
   "source": [
    "* ```SELECT``` : 데이터 검색시 사용"
   ]
  },
  {
   "cell_type": "markdown",
   "id": "554e08d4",
   "metadata": {},
   "source": [
    "**보통 DA들이 제일 많이 사용하는 문구 입니다.**"
   ]
  },
  {
   "cell_type": "markdown",
   "id": "58f92397",
   "metadata": {},
   "source": [
    "### 3.1.2. DML (Data Manipulation Language) : 데이터 조작어"
   ]
  },
  {
   "cell_type": "markdown",
   "id": "9829b5bd",
   "metadata": {},
   "source": [
    "* ```INSERT``` : 데이터 입력시 사용\n",
    "* ```UPDATE``` : 데이터 수정시 사용\n",
    "* ```DELETE``` : 데이터 삭제시 사용"
   ]
  },
  {
   "cell_type": "markdown",
   "id": "5f436454",
   "metadata": {},
   "source": [
    "**위 DQL, DML 의 문구들을 CRUD 기능이라고 부르기도 합니다. (Create, Read, Update, Delete)** </br>\n",
    "**기본적으로 보통 초급개발자 및 DA들은 위의 CRUD정도만 사용합니다.**"
   ]
  },
  {
   "cell_type": "markdown",
   "id": "065ee7cb",
   "metadata": {},
   "source": [
    "---"
   ]
  },
  {
   "cell_type": "markdown",
   "id": "73dd2528",
   "metadata": {},
   "source": [
    "### 3.1.3. DDL (Data Definition Language) : 데이터 정의어"
   ]
  },
  {
   "cell_type": "markdown",
   "id": "81b40e03",
   "metadata": {},
   "source": [
    "* ```CREATE``` : 데이터베이스 (테이블) 생성\n",
    "* ```ALTER``` : 데이터베이스 (테이블) 변경\n",
    "* ```DROP``` : 데이터베이스 (테이블) 삭제\n",
    "* ```RENAME``` : 데이터베이스 (테이블) 객체이름 변경\n",
    "* ```TRUNCATE``` : 데이터베이스 (테이블) 저장공간 삭제"
   ]
  },
  {
   "cell_type": "markdown",
   "id": "0fadf078",
   "metadata": {},
   "source": [
    "### 3.1.4. TCL (Transaction Control Language) : 트랜잭션 처리어"
   ]
  },
  {
   "cell_type": "markdown",
   "id": "7ca65d11",
   "metadata": {},
   "source": [
    "* ```COMMIT``` : 트랜잭션의 정상적인 종료 처리\n",
    "* ```ROLLBACK```: 트랜잭션 취소\n",
    "* ```BEGIN``` : 트랜잭선에 시작점 설정"
   ]
  },
  {
   "cell_type": "markdown",
   "id": "fa3aa15a",
   "metadata": {},
   "source": [
    "### 3.1.5. DCL : (Data Control Language) : 데이터 제어어"
   ]
  },
  {
   "cell_type": "markdown",
   "id": "72820cb8",
   "metadata": {},
   "source": [
    "* ```GRANT``` : 데이터베이스에 대한 일련의 권한 부여\n",
    "* ```REVOKE``` : 데이터베이스에 대한 일련의 권한 취소"
   ]
  },
  {
   "cell_type": "markdown",
   "id": "675e6285",
   "metadata": {},
   "source": [
    "## 3.2. 인덱스?"
   ]
  },
  {
   "cell_type": "markdown",
   "id": "80ffc179",
   "metadata": {},
   "source": [
    "* "
   ]
  }
 ],
 "metadata": {
  "kernelspec": {
   "display_name": "Python 3 (ipykernel)",
   "language": "python",
   "name": "python3"
  },
  "language_info": {
   "codemirror_mode": {
    "name": "ipython",
    "version": 3
   },
   "file_extension": ".py",
   "mimetype": "text/x-python",
   "name": "python",
   "nbconvert_exporter": "python",
   "pygments_lexer": "ipython3",
   "version": "3.8.10"
  }
 },
 "nbformat": 4,
 "nbformat_minor": 5
}

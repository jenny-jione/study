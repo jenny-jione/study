{
 "cells": [
  {
   "cell_type": "markdown",
   "id": "87f32bb7",
   "metadata": {},
   "source": [
    "# 1. 모듈화\n",
    "* 모듈화의 개념은 어려운것이 아닙니다.\n",
    "* 우리가 사용하는 하나의 큰 코드를 분해하여 가독성과 재사용성을 높히는것이 모듈화의 기초입니다.\n",
    "* 아래 코드를 따라 쳐 봅시다:"
   ]
  },
  {
   "cell_type": "code",
   "execution_count": 98,
   "id": "aebbaeb9",
   "metadata": {},
   "outputs": [],
   "source": [
    "import string\n",
    "import random\n",
    "import os\n",
    "\n",
    "\n",
    "letters_set = string.ascii_letters\n",
    "random_list = random.sample(letters_set,10)\n",
    "result = ''.join(random_list)\n",
    "\n",
    "#if not os.path.isfile('data.bin'):\n",
    "with open('data.bin', 'w') as f:\n",
    "    f.write(result)"
   ]
  },
  {
   "cell_type": "code",
   "execution_count": 99,
   "id": "f97734c0",
   "metadata": {},
   "outputs": [],
   "source": [
    "with open('data.bin', 'r') as f:\n",
    "    data = f.read()"
   ]
  },
  {
   "cell_type": "code",
   "execution_count": 100,
   "id": "bd551da0",
   "metadata": {},
   "outputs": [
    {
     "name": "stdout",
     "output_type": "stream",
     "text": [
      "hFGcvRyeQY\n"
     ]
    }
   ],
   "source": [
    "print(data)"
   ]
  },
  {
   "cell_type": "markdown",
   "id": "e02a405a",
   "metadata": {},
   "source": [
    "* 위 코드들을 돌릴때 우리는 하나의 셀 단위씩 코드를 돌리고 있습니다.\n",
    "* 보는것과 같이 2번째 셀에서 data라는 변수를 저장하여 3번째 변수에서 사용하고 있습니다.\n",
    "* 분명 코드가 끝나면 모든 저장된 모든 데이터가 없어지는데, 어떻게 이것이 가능한것일까요?\n",
    "* 그것은 주피터 노트북이 제공하는 기능이고, 우리는 알게모르게 주피터 노트북을 사용하면서 모듈화를 경험하고 있다는 말입니다.\n",
    "* 아래 예제를 더 살펴 봅시다:"
   ]
  },
  {
   "cell_type": "code",
   "execution_count": 101,
   "id": "fa4d9bd6",
   "metadata": {},
   "outputs": [
    {
     "name": "stdout",
     "output_type": "stream",
     "text": [
      "c replaced to 000\n"
     ]
    }
   ],
   "source": [
    "if 'a' in data:\n",
    "    data = data.replace('a', '0')\n",
    "    print('a replaced to 0')\n",
    "\n",
    "elif 'b' in data:\n",
    "    data = data.replace('b', '00')\n",
    "    print('b replaced to 00')\n",
    "    \n",
    "elif 'c' in data:\n",
    "    data = data.replace('c', '000')\n",
    "    print('c replaced to 000')\n",
    "\n",
    "else:\n",
    "    pass\n",
    "\n",
    "if 'A' in data:\n",
    "    data = data.replace('A', '1')\n",
    "    print('A replaced to 1')\n",
    "    \n",
    "elif 'B' in data:\n",
    "    data = data.replace('B', '11')\n",
    "    print('B replaced to 11')\n",
    "\n",
    "elif 'C' in data:\n",
    "    data = data.replace('C', '111')\n",
    "    print('C replaced to 111')\n",
    "\n",
    "else:\n",
    "    pass"
   ]
  },
  {
   "cell_type": "code",
   "execution_count": 102,
   "id": "d7985c7f",
   "metadata": {},
   "outputs": [
    {
     "name": "stdout",
     "output_type": "stream",
     "text": [
      "hFG000vRyeQY\n"
     ]
    }
   ],
   "source": [
    "print(data)"
   ]
  },
  {
   "cell_type": "code",
   "execution_count": 103,
   "id": "24b524c6",
   "metadata": {},
   "outputs": [
    {
     "name": "stdout",
     "output_type": "stream",
     "text": [
      "hFG00 0vRyeQY\n"
     ]
    }
   ],
   "source": [
    "if len(data) >= 11:\n",
    "    data1 = data[:5]\n",
    "    data2 = data[5:]\n",
    "else:\n",
    "    data = data.zfill(10-len(data))\n",
    "    data1 = data[:5]\n",
    "    data2 = data[5:]\n",
    "    \n",
    "print(data1, data2)"
   ]
  },
  {
   "cell_type": "markdown",
   "id": "0597c0ba",
   "metadata": {},
   "source": [
    "* 모듈화를 조금 더 알아보기 위해 이제부터 주피터 노트북이 아닌 .py 파일을 만들어서 코드를 실행시켜봅시다.\n",
    "* 윈도우 기준으로 ```C:\\workspace\\src\\ai_04``` 폴더를,\n",
    "* 리눅스나 맥 기준으로 ```/workspace/src/ai_04``` 폴더를 만듭니다.\n",
    "* 해당 위치에서 윈도우 기준으로 메모장을 하나 만들고, 메모장의 이름을 ```my_file.py``` 로 변경합니다.\n",
    "* **.txt 확장자를 .py로 바꾸는것을 말합니다!**\n",
    "* 리눅스나 맥 기준으로는 해당 폴더 위치에서 터미널을 켜서, ```vi my_file.py``` 를 입력하여 텍스트 편집기로 이동합니다."
   ]
  },
  {
   "cell_type": "markdown",
   "id": "12a4ff3a",
   "metadata": {},
   "source": [
    "* 텍스트 편집기에서 아래 내용을 모두 복사해봅시다"
   ]
  },
  {
   "cell_type": "code",
   "execution_count": null,
   "id": "6c567dfc",
   "metadata": {},
   "outputs": [],
   "source": [
    "import string\n",
    "import random\n",
    "import os\n",
    "\n",
    "letters_set = string.ascii_letters\n",
    "random_list = random.sample(letters_set,10)\n",
    "result = ''.join(random_list)\n",
    "\n",
    "with open('data.bin', 'w') as f:\n",
    "    f.write(result)\n",
    "    \n",
    "with open('data.bin', 'r') as f:\n",
    "    data = f.read()\n",
    "    \n",
    "if 'a' in data:\n",
    "    data = data.replace('a', '0')\n",
    "    print('a replaced to 0')\n",
    "\n",
    "elif 'b' in data:\n",
    "    data = data.replace('b', '00')\n",
    "    print('b replaced to 00')\n",
    "    \n",
    "elif 'c' in data:\n",
    "    data = data.replace('c', '000')\n",
    "    print('c replaced to 000')\n",
    "\n",
    "else:\n",
    "    pass\n",
    "\n",
    "if 'A' in data:\n",
    "    data = data.replace('A', '1')\n",
    "    print('A replaced to 1')\n",
    "    \n",
    "elif 'B' in data:\n",
    "    data = data.replace('B', '11')\n",
    "    print('B replaced to 11')\n",
    "\n",
    "elif 'C' in data:\n",
    "    data = data.replace('C', '111')\n",
    "    print('C replaced to 111')\n",
    "\n",
    "else:\n",
    "    pass\n",
    "\n",
    "if len(data) >= 11:\n",
    "    data1 = data[:5]\n",
    "    data2 = data[5:]\n",
    "else:\n",
    "    data = data.zfill(10-len(data))\n",
    "    data1 = data[:5]\n",
    "    data2 = data[5:]\n",
    "    \n",
    "print(data1, data2)"
   ]
  },
  {
   "cell_type": "markdown",
   "id": "3ea23ef7",
   "metadata": {},
   "source": [
    "* 파일을 저장했다면 실행시켜봅시다\n",
    "* 문제 없이 실행 될 것입니다. 하지만 우리가 위에 한 셀식 차근 차근 쓴 코드와 비교했을때 상당히 길고,\n",
    "* 내가 작성한 코드가 의도한데로 돌아가는지 한줄씩 테스트 하기 어렵습니다.\n",
    "* 상기 이유로 주피터 노트북이 애용되는 이유이기도 합니다. 셀 단위로 모듈화를 제공하고,\n",
    "* 노트 하나에 이전에 실행시킨 모든 변수가 메모리에 저장되어 있기 때문에 분석을 하거나 간단한 코드 테스트를 할때 유용합니다.\n",
    "* 하지만 쥬피터 노트북은 느립니다. 헤비한 코드를 돌리기 위해선 ```.py```파일을 만들어 터미널에서 실행시켜야 할 때가 옵니다.\n",
    "* 그러기 위해 우리는 코드의 모듈화를 합니다.\n",
    "* 아래처럼 코드를 분해하여, 함수단위로 쪼개서 ```your_file.py```에 저장해봅시다:"
   ]
  },
  {
   "cell_type": "code",
   "execution_count": 110,
   "id": "ea37a838",
   "metadata": {},
   "outputs": [
    {
     "name": "stdout",
     "output_type": "stream",
     "text": [
      "b replaced to 00\n",
      "A replaced to 1\n",
      "xM00y KYVGW1\n"
     ]
    }
   ],
   "source": [
    "# your_file.py\n",
    "import string\n",
    "import random\n",
    "import os\n",
    "\n",
    "\n",
    "def create_data(path):\n",
    "    letters_set = string.ascii_letters\n",
    "    random_list = random.sample(letters_set,10)\n",
    "    result = ''.join(random_list)\n",
    "\n",
    "    with open(path, 'w') as f:\n",
    "        f.write(result)\n",
    "        \n",
    "def read_data(path):\n",
    "    with open(path, 'r') as f:\n",
    "        data = f.read()\n",
    "        \n",
    "    return data\n",
    "\n",
    "\n",
    "def parse_lowercase(data):\n",
    "    if 'a' in data:\n",
    "        data = data.replace('a', '0')\n",
    "        print('a replaced to 0')\n",
    "\n",
    "    elif 'b' in data:\n",
    "        data = data.replace('b', '00')\n",
    "        print('b replaced to 00')\n",
    "\n",
    "    elif 'c' in data:\n",
    "        data = data.replace('c', '000')\n",
    "        print('c replaced to 000')\n",
    "\n",
    "    else:\n",
    "        pass\n",
    "    \n",
    "    return data\n",
    "\n",
    "def parse_uppercase(data):\n",
    "    if 'A' in data:\n",
    "        data = data.replace('A', '1')\n",
    "        print('A replaced to 1')\n",
    "\n",
    "    elif 'B' in data:\n",
    "        data = data.replace('B', '11')\n",
    "        print('B replaced to 11')\n",
    "\n",
    "    elif 'C' in data:\n",
    "        data = data.replace('C', '111')\n",
    "        print('C replaced to 111')\n",
    "\n",
    "    else:\n",
    "        pass\n",
    "    \n",
    "    return data\n",
    "\n",
    "\n",
    "def aggregate_data(data):\n",
    "    if len(data) >= 11:\n",
    "        data1 = data[:5]\n",
    "        data2 = data[5:]\n",
    "    else:\n",
    "        data = data.zfill(10-len(data))\n",
    "        data1 = data[:5]\n",
    "        data2 = data[5:]\n",
    "\n",
    "    return data1, data2\n",
    "\n",
    "\n",
    "def main_task(path):\n",
    "    create_data(path)\n",
    "    data = read_data(path)\n",
    "    data = parse_lowercase(data)\n",
    "    data = parse_uppercase(data)\n",
    "    data1, data2 = aggregate_data(data)\n",
    "    return data1, data2\n",
    "\n",
    "\n",
    "if __name__ == '__main__':\n",
    "    path = 'data.bin'\n",
    "    data1, data2 = main_task(path)\n",
    "    print(data1, data2)"
   ]
  },
  {
   "cell_type": "markdown",
   "id": "ac1f5696",
   "metadata": {},
   "source": [
    "* 동일한 기능을 하는 코드이지만, main_task() 라는 함수가 추가되었습니다.\n",
    "* main_task() 함수에서 우리가 패키징한 함수를 하나씩 불러들여 실행시키고 있습니다.\n",
    "* 이로써 각각의 함수들의 기능들을 제어하기 쉽고, 원하는 기능들을 쉽게 수정, 테스트 할 수 있습니다.\n",
    "* if __name__ == '__main__': 에 대해 알고싶다면 링크를 참조하세요:\n",
    "https://madplay.github.io/post/python-main-function"
   ]
  },
  {
   "cell_type": "markdown",
   "id": "7f455bcd",
   "metadata": {},
   "source": [
    "* 이런식으로도 분리 가능합니다:\n",
    "* 아래처럼 4개의 파일을 만들어주세요"
   ]
  },
  {
   "cell_type": "code",
   "execution_count": null,
   "id": "b092d8fc",
   "metadata": {},
   "outputs": [],
   "source": [
    "# data_module.py\n",
    "import string\n",
    "import random\n",
    "import os\n",
    "\n",
    "def create_data(path):\n",
    "    letters_set = string.ascii_letters\n",
    "    random_list = random.sample(letters_set,10)\n",
    "    result = ''.join(random_list)\n",
    "\n",
    "    with open(path, 'w') as f:\n",
    "        f.write(result)\n",
    "        \n",
    "\n",
    "def read_data(path):\n",
    "    with open(path, 'r') as f:\n",
    "        data = f.read()\n",
    "        \n",
    "    return data"
   ]
  },
  {
   "cell_type": "code",
   "execution_count": null,
   "id": "6bb84e38",
   "metadata": {},
   "outputs": [],
   "source": [
    "# parse_module.py\n",
    "def parse_lowercase(data):\n",
    "    if 'a' in data:\n",
    "        data = data.replace('a', '0')\n",
    "        print('a replaced to 0')\n",
    "\n",
    "    elif 'b' in data:\n",
    "        data = data.replace('b', '00')\n",
    "        print('b replaced to 00')\n",
    "\n",
    "    elif 'c' in data:\n",
    "        data = data.replace('c', '000')\n",
    "        print('c replaced to 000')\n",
    "\n",
    "    else:\n",
    "        pass\n",
    "    \n",
    "    return data\n",
    "\n",
    "def parse_uppercase(data):\n",
    "    if 'A' in data:\n",
    "        data = data.replace('A', '1')\n",
    "        print('A replaced to 1')\n",
    "\n",
    "    elif 'B' in data:\n",
    "        data = data.replace('B', '11')\n",
    "        print('B replaced to 11')\n",
    "\n",
    "    elif 'C' in data:\n",
    "        data = data.replace('C', '111')\n",
    "        print('C replaced to 111')\n",
    "\n",
    "    else:\n",
    "        pass\n",
    "    \n",
    "    return data"
   ]
  },
  {
   "cell_type": "code",
   "execution_count": null,
   "id": "6257d21f",
   "metadata": {},
   "outputs": [],
   "source": [
    "# aggrigate_module.py\n",
    "def aggregate_module(data):\n",
    "    if len(data) >= 11:\n",
    "        data1 = data[:5]\n",
    "        data2 = data[5:]\n",
    "    else:\n",
    "        data = data.zfill(10-len(data))\n",
    "        data1 = data[:5]\n",
    "        data2 = data[5:]\n",
    "\n",
    "    return data1, data2"
   ]
  },
  {
   "cell_type": "code",
   "execution_count": null,
   "id": "2cc175e4",
   "metadata": {},
   "outputs": [],
   "source": [
    "# main_module.py\n",
    "import data_module\n",
    "import parse_module\n",
    "import aggregate_module\n",
    "\n",
    "\n",
    "def main_task(path):\n",
    "    data_module.create_data(path)\n",
    "    data = data_module.read_data(path)\n",
    "    data = parse_module.parse_lowercase(data)\n",
    "    data = parse_module.parse_uppercase(data)\n",
    "    data1, data2 = aggregate_module.aggregate_data(data)\n",
    "    return data1, data2\n",
    "\n",
    "\n",
    "if __name__ == '__main__':\n",
    "    path = 'data.bin'\n",
    "    data1, data2 = main_task(path)\n",
    "    print(data1, data2)"
   ]
  }
 ],
 "metadata": {
  "kernelspec": {
   "display_name": "Python 3 (ipykernel)",
   "language": "python",
   "name": "python3"
  },
  "language_info": {
   "codemirror_mode": {
    "name": "ipython",
    "version": 3
   },
   "file_extension": ".py",
   "mimetype": "text/x-python",
   "name": "python",
   "nbconvert_exporter": "python",
   "pygments_lexer": "ipython3",
   "version": "3.8.10"
  }
 },
 "nbformat": 4,
 "nbformat_minor": 5
}

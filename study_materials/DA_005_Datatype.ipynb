{
 "cells": [
  {
   "cell_type": "markdown",
   "id": "90bf61fc",
   "metadata": {},
   "source": [
    "# 1. 데이터타입"
   ]
  },
  {
   "cell_type": "markdown",
   "id": "f5cdb9a1",
   "metadata": {},
   "source": [
    "* 기본적으로 int, str, list, set, dictionary 등의 파이썬 자료형을 알고 있다는 가정하에 시작하겠습니다.\n",
    "* 그 중 몇개의 특징만 간단히 보고 넘어갑시다."
   ]
  },
  {
   "cell_type": "markdown",
   "id": "f14b413e",
   "metadata": {},
   "source": [
    "## 1.1. Set"
   ]
  },
  {
   "cell_type": "markdown",
   "id": "27b130a0",
   "metadata": {},
   "source": [
    "* set 은 중복을 허용하지 않고, 순서가 보장되지 않는 않는 데이터 타입입니다.\n",
    "* 차집합, 교집합등을 구할때 유용합니다."
   ]
  },
  {
   "cell_type": "code",
   "execution_count": 5,
   "id": "40a20596",
   "metadata": {},
   "outputs": [
    {
     "name": "stdout",
     "output_type": "stream",
     "text": [
      "{1, 2, 3, 4, 5, 6, 7} {4, 5, 6, 7, 8, 9, 10}\n"
     ]
    }
   ],
   "source": [
    "# set 자료형\n",
    "s1 = set([1,2,3,4,5,6,7])\n",
    "s2 = {4,5,6,7,8,9,10}\n",
    "print(s1, s2)"
   ]
  },
  {
   "cell_type": "code",
   "execution_count": 7,
   "id": "1881669a",
   "metadata": {},
   "outputs": [
    {
     "name": "stdout",
     "output_type": "stream",
     "text": [
      "{4, 5, 6, 7}\n",
      "{4, 5, 6, 7}\n"
     ]
    }
   ],
   "source": [
    "# 교집합\n",
    "print(s1 & s2)\n",
    "print(s1.intersection(s2))"
   ]
  },
  {
   "cell_type": "code",
   "execution_count": 9,
   "id": "1abe4270",
   "metadata": {},
   "outputs": [
    {
     "name": "stdout",
     "output_type": "stream",
     "text": [
      "{1, 2, 3, 4, 5, 6, 7, 8, 9, 10}\n",
      "{1, 2, 3, 4, 5, 6, 7, 8, 9, 10}\n"
     ]
    }
   ],
   "source": [
    "# 합집합\n",
    "print(s1|s2)\n",
    "print(s1.union(s2))"
   ]
  },
  {
   "cell_type": "code",
   "execution_count": 12,
   "id": "a18e9c86",
   "metadata": {},
   "outputs": [
    {
     "name": "stdout",
     "output_type": "stream",
     "text": [
      "{1, 2, 3}\n",
      "{8, 9, 10}\n",
      "{1, 2, 3}\n",
      "{8, 9, 10}\n"
     ]
    }
   ],
   "source": [
    "# 차집합\n",
    "print(s1 - s2)\n",
    "print(s2 - s1)\n",
    "print(s1.difference(s2))\n",
    "print(s2.difference(s1))"
   ]
  },
  {
   "cell_type": "code",
   "execution_count": 39,
   "id": "53c240d3",
   "metadata": {},
   "outputs": [
    {
     "name": "stdout",
     "output_type": "stream",
     "text": [
      "{1, 2, 3, 8, 9, 10}\n",
      "{1, 2, 3, 8, 9, 10}\n",
      "{1, 2, 3, 8, 9, 10}\n"
     ]
    }
   ],
   "source": [
    "# 대칭차집합 -> 교집합의 반대\n",
    "print(s1 ^ s2)\n",
    "print(s2 ^ s1)\n",
    "print(s1.symmetric_difference(s2))"
   ]
  },
  {
   "cell_type": "markdown",
   "id": "2114ffec",
   "metadata": {},
   "source": [
    "* list, tuple, set은 서로 타입캐스팅이 가능합니다.\n",
    "* 즉 중복이 있는 리스트의 중복제거나, 서로 다른 리스트들의 집합들을 구할때 유용합니다."
   ]
  },
  {
   "cell_type": "code",
   "execution_count": 17,
   "id": "a7467d94",
   "metadata": {},
   "outputs": [],
   "source": [
    "my_list = [1,2,3,99,1,2,4,5,3,2]\n",
    "your_list = [1,44,98,99,1,3,4,5]"
   ]
  },
  {
   "cell_type": "code",
   "execution_count": 30,
   "id": "e80b02fa",
   "metadata": {},
   "outputs": [
    {
     "name": "stdout",
     "output_type": "stream",
     "text": [
      "[1, 2, 3, 4, 5, 99]\n",
      "<class 'list'>\n"
     ]
    }
   ],
   "source": [
    "# 리스트 중복 제거 후 정렬\n",
    "my_list = sorted(set(my_list))\n",
    "print(my_list)\n",
    "print(type(my_list))"
   ]
  },
  {
   "cell_type": "code",
   "execution_count": 41,
   "id": "67963714",
   "metadata": {},
   "outputs": [
    {
     "name": "stdout",
     "output_type": "stream",
     "text": [
      "[2] {1, 2, 3, 4, 5, 99, 98, 44}\n"
     ]
    }
   ],
   "source": [
    "# my_list 와 your_list 의 차집합 구하기\n",
    "their_list = list(set(my_list) - set(your_list))\n",
    "print(their_list)\n",
    "\n",
    "# 설명: my_list에만 있는 유니크한 값은 2 밖에 없다"
   ]
  },
  {
   "cell_type": "code",
   "execution_count": 24,
   "id": "00a0bbd2",
   "metadata": {},
   "outputs": [
    {
     "name": "stdout",
     "output_type": "stream",
     "text": [
      "[98, 44]\n"
     ]
    }
   ],
   "source": [
    "# your_list 와 my_list의 차집합 구하기\n",
    "our_list = list(set(your_list) - set(my_list))\n",
    "print(our_list)\n",
    "\n",
    "# 설명: your_list에만 있는 유니크한 값은 98과 44 이다."
   ]
  },
  {
   "cell_type": "code",
   "execution_count": 38,
   "id": "7cd2a17b",
   "metadata": {},
   "outputs": [
    {
     "name": "stdout",
     "output_type": "stream",
     "text": [
      "[98, 2, 44]\n"
     ]
    }
   ],
   "source": [
    "# my_list와 your_list의 대칭차집합\n",
    "thy_list = list(set(my_list) ^ set(your_list))\n",
    "print(thy_list)\n",
    "\n",
    "# 설명: my_list 와 your_list의 모든 유니크한 값들은 98, 2, 44 이다."
   ]
  },
  {
   "cell_type": "markdown",
   "id": "5e7837e9",
   "metadata": {},
   "source": [
    "## 1.2. 딕셔너리"
   ]
  },
  {
   "cell_type": "markdown",
   "id": "55933383",
   "metadata": {},
   "source": [
    "<img src='https://hanamon.kr/wp-content/uploads/2021/07/Big-O-Complexity-Chart-1280x856.png'>"
   ]
  },
  {
   "cell_type": "markdown",
   "id": "0ad56987",
   "metadata": {},
   "source": [
    "* 딕셔너리는 CS에서 해쉬라고 부르는 데이터 형식입니다.\n",
    "* 딕셔너리는 시간복잡도가 O(1) 을 가집니다\n",
    "* 이는 list 같은 iterable 자료형들 보다 훨씬 빠른 검색, 데이터 수정을 의미합니다. <br><br>\n",
    "    * **시간복잡도란?**\n",
    "        * 시간복잡도는 입력값과 연산 수행 시간의 상관관계를 나타내는 척도입니다.\n",
    "        * ( 어떤 함수에 input 값이 많아질수록 연산하는데 걸리는 시간 )\n",
    "        * 시간복잡도는 아래와 같은 표기법을 가지며, 위에서 아래로 내려갈 수록 느립니다.\n",
    "    1. **O(1)**\n",
    "        * 데이터가 몇개이던 연산하는데 시간이 증가하지 않습니다.\n",
    "        * 1개의 데이터를 1초에 연산하는 함수가 있다 가정할때, 100개의 데이터가 들어와도 동일하게 1초가 걸립니다.\n",
    "        * 10층 빌딩에 배달원이 주소가 303호 라고 알고 있으면 바로 찾아갈 수 있는것이라 생각합시다.\n",
    "    2. **O(log N)**\n",
    "        * 데이터가 N 개이면 연산하는데 log(N) 만큼의 시간이 증가합니다.\n",
    "        * 1개의 데이터를 1초에 연ㅏㄴ하는 함수가 있다 가정할때, 100개의 데이터가 들어오면 log(100) = 2초가 걸립니다.\n",
    "        * Binary Search Tree 알고리즘이 이 방법입니다.\n",
    "        * 술게임 up down을 생각하면 됩니다. \n",
    "    3. **O(N)**\n",
    "        * 데이터가 N개이면 연산하는데 똑같이 N만큼 시간이 증가합니다.\n",
    "        * 1개의 데이터를 1초에 연산하는 함수가 있다 가정할때, 100개의 데이터가 들어오면 100초가 걸립니다.\n",
    "        * 10층짜리 빌딩에 배달원이 주소를 모르면 최악의 경우 10층의 모든 집을 방문해야 합니다.\n",
    "    4. **O(N^2)**\n",
    "        * 데이터가 N개이면 연산하는데 N^2 시간만큼 걸립니다.\n",
    "        * 내가 짠 함수가 O(N^2) 의 시간복잡도를 가지면 한번 내가 뭘 잘못했는지 생각해봅시다.\n",
    "        * 친구집을 찾아가는데 현대 아파트 라는것만 알고 동, 호수를 모른다면 (동) * (호수) 를 모두 뒤져야 함으로 O(N^2)의 시간 복잡도를 가집니다.\n",
    "    5. **O(N!)**\n",
    "        * 데이터가 N개이면 연산하는데 N! 시간만큼 걸립니다.\n",
    "        * 1개의 데이터를 1초에 연산하는 함수가 있다 가정할때, 100개의 데이터가 들어오면 1 * 2 * 3 * ... 99 * 100 초의 시간이 걸립니다.\n",
    "        * 작정하고 함수를 만들지 않는 이상 볼일은 없을것입니다."
   ]
  },
  {
   "cell_type": "markdown",
   "id": "851d99f0",
   "metadata": {},
   "source": [
    "* 딕셔너리는 또한 json 과 상호 호환이 됩니다!"
   ]
  },
  {
   "cell_type": "code",
   "execution_count": 47,
   "id": "72cff251",
   "metadata": {},
   "outputs": [
    {
     "name": "stdout",
     "output_type": "stream",
     "text": [
      "5\n"
     ]
    }
   ],
   "source": [
    "# 리스트를 사용한 데이터 탐색\n",
    "user_id = 'king'\n",
    "users_in_db = ['hong', 'song', 'dong', 'ding', 'dang', 'king', 'sang']\n",
    "\n",
    "for i, user_in_db in enumerate(users_in_db):\n",
    "    if user_id == user_in_db:\n",
    "        print(i)"
   ]
  },
  {
   "cell_type": "code",
   "execution_count": 48,
   "id": "55f6b92c",
   "metadata": {},
   "outputs": [
    {
     "data": {
      "text/plain": [
       "5"
      ]
     },
     "execution_count": 48,
     "metadata": {},
     "output_type": "execute_result"
    }
   ],
   "source": [
    "# 딕셔너리를 사용한 데이터 탐색\n",
    "user_id = 'king'\n",
    "users_in_dict_db = {'hong': 0, 'song':1, 'dong':2, 'ding':3, 'dang':4, 'king':5, 'sang': 6}\n",
    "users_in_dict_db[user_id]"
   ]
  },
  {
   "cell_type": "code",
   "execution_count": 50,
   "id": "7d8beb85",
   "metadata": {},
   "outputs": [
    {
     "name": "stdout",
     "output_type": "stream",
     "text": [
      "hong\n",
      "song\n",
      "dong\n",
      "ding\n",
      "dang\n",
      "king\n",
      "sang\n"
     ]
    }
   ],
   "source": [
    "# 딕셔너리 키값 찾기:\n",
    "for key in users_in_dict_db.keys():\n",
    "    print(key)"
   ]
  },
  {
   "cell_type": "code",
   "execution_count": 51,
   "id": "80d11ab6",
   "metadata": {},
   "outputs": [
    {
     "name": "stdout",
     "output_type": "stream",
     "text": [
      "0\n",
      "1\n",
      "2\n",
      "3\n",
      "4\n",
      "5\n",
      "6\n"
     ]
    }
   ],
   "source": [
    "# 딕셔너리 벨류값 찾기:\n",
    "for value in users_in_dict_db.values():\n",
    "    print(value)"
   ]
  },
  {
   "cell_type": "code",
   "execution_count": 52,
   "id": "a864c874",
   "metadata": {},
   "outputs": [
    {
     "name": "stdout",
     "output_type": "stream",
     "text": [
      "hong 0\n",
      "song 1\n",
      "dong 2\n",
      "ding 3\n",
      "dang 4\n",
      "king 5\n",
      "sang 6\n"
     ]
    }
   ],
   "source": [
    "# 키, 밸류 둘다 찾기:\n",
    "for key, value in users_in_dict_db.items():\n",
    "    print(key, value)"
   ]
  },
  {
   "cell_type": "markdown",
   "id": "eccd25c5",
   "metadata": {},
   "source": [
    "# 2. 사용자 정의 데이터"
   ]
  },
  {
   "cell_type": "markdown",
   "id": "68085092",
   "metadata": {},
   "source": [
    "* 객체지향 프로그래밍을 들어보셨을것입니다.\n",
    "* 어려운 내용은 넘어가고 우선 객체지향에서 말하는 객체란 곧 사용자 정의 데이터를 뜻합니다.\n",
    "* 우리가 흔히 보는 ```class```가 바로 사용자 정의 데이터입니다.\n",
    "* 이름을 저장해야 한다고 가정해 봅시다:"
   ]
  },
  {
   "cell_type": "code",
   "execution_count": 54,
   "id": "3a60cb5f",
   "metadata": {},
   "outputs": [
    {
     "name": "stdout",
     "output_type": "stream",
     "text": [
      "kingsan Yoon\n"
     ]
    }
   ],
   "source": [
    "name = 'kingsan Yoon'\n",
    "print(name)"
   ]
  },
  {
   "cell_type": "markdown",
   "id": "f38f95bc",
   "metadata": {},
   "source": [
    "* 아무런 문제없는 데이터입니다.\n",
    "* 하지만 위의 string 자료형만으론 kingsan이 성인지, Yoon이 성인지 성 과 이름이 fullname으로 구분되는지 알 수 없습니다.\n",
    "* 그렇기때문에 우리는 어떠한 데이터에 규칙과 속성을 부여한 사용자 정의 데이터 = 객체를 만듭니다."
   ]
  },
  {
   "cell_type": "code",
   "execution_count": 90,
   "id": "3a3ca6d8",
   "metadata": {},
   "outputs": [],
   "source": [
    "class FullName:\n",
    "    def __init__(self, firstname: str, lastname: str) -> None:\n",
    "        if len(firstname) > 10:\n",
    "            raise Exception('First Name is too long!')\n",
    "        self._firstname = firstname\n",
    "        self._lastname = lastname\n",
    "        \n",
    "    def __repr__(self):\n",
    "        return f'FullName Object!!!!!!!!!!!!'\n",
    "    \n",
    "    def __str__(self):\n",
    "        return f'{self._firstname} {self._lastname}'"
   ]
  },
  {
   "cell_type": "code",
   "execution_count": 91,
   "id": "d6362e77",
   "metadata": {},
   "outputs": [
    {
     "data": {
      "text/plain": [
       "FullName Object!!!!!!!!!!!!"
      ]
     },
     "execution_count": 91,
     "metadata": {},
     "output_type": "execute_result"
    }
   ],
   "source": [
    "name2 = FullName('kingsan', 'Yoon')\n",
    "name2"
   ]
  },
  {
   "cell_type": "code",
   "execution_count": 63,
   "id": "ba556be0",
   "metadata": {},
   "outputs": [
    {
     "name": "stdout",
     "output_type": "stream",
     "text": [
      "kingsan Yoon\n"
     ]
    }
   ],
   "source": [
    "print(name2)"
   ]
  },
  {
   "cell_type": "code",
   "execution_count": 92,
   "id": "9fc18666",
   "metadata": {},
   "outputs": [
    {
     "ename": "Exception",
     "evalue": "First Name is too long!",
     "output_type": "error",
     "traceback": [
      "\u001b[0;31m---------------------------------------------------------------------------\u001b[0m",
      "\u001b[0;31mException\u001b[0m                                 Traceback (most recent call last)",
      "\u001b[0;32m/tmp/ipykernel_44794/2765235528.py\u001b[0m in \u001b[0;36m<module>\u001b[0;34m\u001b[0m\n\u001b[1;32m      1\u001b[0m \u001b[0;31m# 만약 firstname 이 10글자 이상이면\u001b[0m\u001b[0;34m\u001b[0m\u001b[0;34m\u001b[0m\u001b[0;34m\u001b[0m\u001b[0m\n\u001b[0;32m----> 2\u001b[0;31m \u001b[0mname3\u001b[0m \u001b[0;34m=\u001b[0m \u001b[0mFullName\u001b[0m\u001b[0;34m(\u001b[0m\u001b[0;34m'kiiiiiiiiiiingsan'\u001b[0m\u001b[0;34m,\u001b[0m \u001b[0;34m'Yoon'\u001b[0m\u001b[0;34m)\u001b[0m\u001b[0;34m\u001b[0m\u001b[0;34m\u001b[0m\u001b[0m\n\u001b[0m\u001b[1;32m      3\u001b[0m \u001b[0mname3\u001b[0m\u001b[0;34m\u001b[0m\u001b[0;34m\u001b[0m\u001b[0m\n",
      "\u001b[0;32m/tmp/ipykernel_44794/143299781.py\u001b[0m in \u001b[0;36m__init__\u001b[0;34m(self, firstname, lastname)\u001b[0m\n\u001b[1;32m      2\u001b[0m     \u001b[0;32mdef\u001b[0m \u001b[0m__init__\u001b[0m\u001b[0;34m(\u001b[0m\u001b[0mself\u001b[0m\u001b[0;34m,\u001b[0m \u001b[0mfirstname\u001b[0m\u001b[0;34m:\u001b[0m \u001b[0mstr\u001b[0m\u001b[0;34m,\u001b[0m \u001b[0mlastname\u001b[0m\u001b[0;34m:\u001b[0m \u001b[0mstr\u001b[0m\u001b[0;34m)\u001b[0m \u001b[0;34m->\u001b[0m \u001b[0;32mNone\u001b[0m\u001b[0;34m:\u001b[0m\u001b[0;34m\u001b[0m\u001b[0;34m\u001b[0m\u001b[0m\n\u001b[1;32m      3\u001b[0m         \u001b[0;32mif\u001b[0m \u001b[0mlen\u001b[0m\u001b[0;34m(\u001b[0m\u001b[0mfirstname\u001b[0m\u001b[0;34m)\u001b[0m \u001b[0;34m>\u001b[0m \u001b[0;36m10\u001b[0m\u001b[0;34m:\u001b[0m\u001b[0;34m\u001b[0m\u001b[0;34m\u001b[0m\u001b[0m\n\u001b[0;32m----> 4\u001b[0;31m             \u001b[0;32mraise\u001b[0m \u001b[0mException\u001b[0m\u001b[0;34m(\u001b[0m\u001b[0;34m'First Name is too long!'\u001b[0m\u001b[0;34m)\u001b[0m\u001b[0;34m\u001b[0m\u001b[0;34m\u001b[0m\u001b[0m\n\u001b[0m\u001b[1;32m      5\u001b[0m         \u001b[0mself\u001b[0m\u001b[0;34m.\u001b[0m\u001b[0m_firstname\u001b[0m \u001b[0;34m=\u001b[0m \u001b[0mfirstname\u001b[0m\u001b[0;34m\u001b[0m\u001b[0;34m\u001b[0m\u001b[0m\n\u001b[1;32m      6\u001b[0m         \u001b[0mself\u001b[0m\u001b[0;34m.\u001b[0m\u001b[0m_lastname\u001b[0m \u001b[0;34m=\u001b[0m \u001b[0mlastname\u001b[0m\u001b[0;34m\u001b[0m\u001b[0;34m\u001b[0m\u001b[0m\n",
      "\u001b[0;31mException\u001b[0m: First Name is too long!"
     ]
    }
   ],
   "source": [
    "# 만약 firstname 이 10글자 이상이면\n",
    "name3 = FullName('kiiiiiiiiiiingsan', 'Yoon')\n",
    "name3"
   ]
  },
  {
   "cell_type": "markdown",
   "id": "1f58f8b5",
   "metadata": {},
   "source": [
    "* 보는것처럼 ```FullName```이라는 우리가 만든 데이터 타입을 이용해서 더 가독성있고 규칙이 있는 데이터를 만들었습니다."
   ]
  },
  {
   "cell_type": "code",
   "execution_count": 88,
   "id": "741e7021",
   "metadata": {},
   "outputs": [],
   "source": [
    "class human:\n",
    "    def __init__(self, first_name: str, last_name: str, age: int) -> None:\n",
    "        self._first_name = first_name\n",
    "        self._last_name = last_name\n",
    "        self._age = age\n",
    "    \n",
    "    def __eq__(self, x: 'human') -> bool:\n",
    "        return self._first_name == x._first_name and \\\n",
    "               self._last_name == x._last_name and \\\n",
    "               self._age == x._age\n",
    "    \n",
    "    def __ne__(self, x: 'human') -> bool:\n",
    "        return not self == x\n",
    "\n",
    "    def __lt__(self, x: 'human._age') -> bool:\n",
    "        return True if self._age < x._age else False\n",
    "\n",
    "    def __gt__(self, x: 'human._age') -> bool:\n",
    "        return True if self._age > x._age else False\n",
    "    \n",
    "    def __le__(self, x: 'human._age') -> bool:\n",
    "        return True if self._age <= x._age else False\n",
    "\n",
    "    def __ge__(self, x: 'human._age') -> bool:\n",
    "        return True if self._age >= x._age else False"
   ]
  },
  {
   "cell_type": "code",
   "execution_count": 89,
   "id": "367336e7",
   "metadata": {},
   "outputs": [
    {
     "name": "stdout",
     "output_type": "stream",
     "text": [
      "yoshi 와 mario 는 같은 객체입니까?\t\t\t : False\n",
      "yoshi의 나이(20) 은 mario 의 나이 (22) 보다 큽니까?\t : False\n",
      "yoshi의 나이(20) 은 mario 의 나이 (22) 보다 작습니까?\t : True\n",
      "yoshi 와 yoshi2 는 같은 객체 입니까?\t\t : True\n"
     ]
    }
   ],
   "source": [
    "yoshi = human('yo', 'shi', 20)\n",
    "mario = human('ma', 'rio', 22)\n",
    "print(\"yoshi 와 mario 는 같은 객체입니까?\\t\\t\\t :\", yoshi == mario)\n",
    "print(\"yoshi의 나이(20) 은 mario 의 나이 (22) 보다 큽니까?\\t :\", yoshi > mario)\n",
    "print(\"yoshi의 나이(20) 은 mario 의 나이 (22) 보다 작습니까?\\t :\", yoshi < mario)\n",
    "yoshi2 = human('yo', 'shi', 20)\n",
    "print(\"yoshi 와 yoshi2 는 같은 객체 입니까?\\t\\t :\", yoshi == yoshi2)"
   ]
  },
  {
   "cell_type": "code",
   "execution_count": null,
   "id": "35ca77d6",
   "metadata": {},
   "outputs": [],
   "source": []
  }
 ],
 "metadata": {
  "kernelspec": {
   "display_name": "Python 3 (ipykernel)",
   "language": "python",
   "name": "python3"
  },
  "language_info": {
   "codemirror_mode": {
    "name": "ipython",
    "version": 3
   },
   "file_extension": ".py",
   "mimetype": "text/x-python",
   "name": "python",
   "nbconvert_exporter": "python",
   "pygments_lexer": "ipython3",
   "version": "3.8.10"
  }
 },
 "nbformat": 4,
 "nbformat_minor": 5
}

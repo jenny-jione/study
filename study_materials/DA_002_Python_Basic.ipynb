{
 "cells": [
  {
   "cell_type": "markdown",
   "id": "3f95624d",
   "metadata": {},
   "source": [
    "# 1. 파이썬 기본\n",
    "* 사전 조사 결과에 따라 기본적 지식을 가지고 있다는 상태의 가정하에 진행합니다."
   ]
  },
  {
   "cell_type": "markdown",
   "id": "b46f8f72",
   "metadata": {},
   "source": [
    "## 1.1 기본 내장함수"
   ]
  },
  {
   "cell_type": "markdown",
   "id": "665ff028",
   "metadata": {},
   "source": [
    "### 1.1.1 os\n",
    "* os 모듈은 operating system의 약자로, 운영체제에서 제공되는 기능들을 쉘 스크립트가 아닌 파이썬으로 수행할 수 있게 해주는 모듈입니다.\n",
    "* 예를들어 파일을 복사, 디렉터리 생성, 파일 및 디렉터리 삭제 등 쉘 스크립트가 수행하는 명령들을 가능케 해 줍니다."
   ]
  },
  {
   "cell_type": "code",
   "execution_count": 1,
   "id": "ee9b8e91",
   "metadata": {},
   "outputs": [],
   "source": [
    "import os"
   ]
  },
  {
   "cell_type": "code",
   "execution_count": 2,
   "id": "18312eed",
   "metadata": {},
   "outputs": [
    {
     "data": {
      "text/plain": [
       "'/home/mark01/workspace/jupyter-notebook/education/Python_for_AI_team'"
      ]
     },
     "execution_count": 2,
     "metadata": {},
     "output_type": "execute_result"
    }
   ],
   "source": [
    "# 현재 위치 구하기\n",
    "os.getcwd()"
   ]
  },
  {
   "cell_type": "code",
   "execution_count": 6,
   "id": "0a8e4125",
   "metadata": {},
   "outputs": [
    {
     "name": "stdout",
     "output_type": "stream",
     "text": [
      "['opt', 'proc', 'lib32', 'lib', 'boot', 'media', 'libx32', 'sbin', 'swapfile', 'cdrom', 'snap', 'tmp', 'srv', 'bin', 'mnt', 'etc', 'home', 'lost+found', 'dev', 'sys', 'usr', 'root', 'var', 'run', 'data', 'lib64']\n"
     ]
    }
   ],
   "source": [
    "# 특정 디렉터리의 파일 확인\n",
    "files = os.listdir('/')\n",
    "print(files)"
   ]
  },
  {
   "cell_type": "code",
   "execution_count": 8,
   "id": "5efbcc75",
   "metadata": {},
   "outputs": [
    {
     "name": "stdout",
     "output_type": "stream",
     "text": [
      "DA_000_pretest_answers.ipynb\n",
      "DA_000_pretest.ipynb\n",
      "DA_001\n",
      "DA_001_CS_Basic.ipynb\n",
      "DA_002_Python_Basic.ipynb\n"
     ]
    },
    {
     "data": {
      "text/plain": [
       "0"
      ]
     },
     "execution_count": 8,
     "metadata": {},
     "output_type": "execute_result"
    }
   ],
   "source": [
    "# 쉘 명령어 실행시키기\n",
    "os.system(\"ls\")"
   ]
  },
  {
   "cell_type": "code",
   "execution_count": 16,
   "id": "23e00781",
   "metadata": {},
   "outputs": [],
   "source": [
    "# 폴더 만들기\n",
    "os.mkdir(\"./sample\")"
   ]
  },
  {
   "cell_type": "code",
   "execution_count": 10,
   "id": "9014063c",
   "metadata": {},
   "outputs": [
    {
     "name": "stdout",
     "output_type": "stream",
     "text": [
      "DA_000_pretest_answers.ipynb\n",
      "DA_000_pretest.ipynb\n",
      "DA_001\n",
      "DA_001_CS_Basic.ipynb\n",
      "DA_002_Python_Basic.ipynb\n",
      "sample\n"
     ]
    },
    {
     "data": {
      "text/plain": [
       "0"
      ]
     },
     "execution_count": 10,
     "metadata": {},
     "output_type": "execute_result"
    }
   ],
   "source": [
    "# 만들어진 폴더 확인\n",
    "os.system(\"ls\")"
   ]
  },
  {
   "cell_type": "code",
   "execution_count": 17,
   "id": "63adfa88",
   "metadata": {},
   "outputs": [],
   "source": [
    "# 만든 폴더 이름 변경\n",
    "os.rename(\"./sample\", \"./simple\")"
   ]
  },
  {
   "cell_type": "code",
   "execution_count": 12,
   "id": "fae6ddec",
   "metadata": {},
   "outputs": [
    {
     "name": "stdout",
     "output_type": "stream",
     "text": [
      "['DA_000_pretest_answers.ipynb', 'DA_000_pretest.ipynb', 'DA_002_Python_Basic.ipynb', 'DA_001', 'simple', 'DA_001_CS_Basic.ipynb', '.ipynb_checkpoints']\n"
     ]
    }
   ],
   "source": [
    "# 변경된 폴더 이름 확인\n",
    "files = os.listdir(os.getcwd())\n",
    "print(files)"
   ]
  },
  {
   "cell_type": "code",
   "execution_count": 18,
   "id": "df8e0638",
   "metadata": {},
   "outputs": [],
   "source": [
    "# 만든 폴더 삭제\n",
    "os.removedirs(\"./simple\")\n",
    "\n",
    "# 참고: 파일을 삭제할때는 os.remove, 폴더를 삭제할땐 os.removedirs, 혹은 os.rmdir"
   ]
  },
  {
   "cell_type": "markdown",
   "id": "542977c1",
   "metadata": {},
   "source": [
    "### 1.1.2 os.path\n",
    "* os 의 하위 모듈로써, 운영체제의 경로에 관한 모듈입니다.\n",
    "* 비슷한 모듈로써 pathlib이 있으며 더 고수준의 경로 객체를 제공해줍니다."
   ]
  },
  {
   "cell_type": "markdown",
   "id": "a411d58b",
   "metadata": {},
   "source": [
    "**절대경로 vs 상대경로**\n",
    "* 상대경로는 현재 위치를 기준으로 경로를 표기하는 방식입니다.\n",
    "* ```./``` ```../``` ```~/``` 등의 문자가 들어가면 상대경로 입니다.\n",
    "* ```.``` 은 현재 위치를 의미하며, ```..``` 는 현재의 바로 전단계 디렉터리를 의미합니다.\n",
    "* 절대경로는 경로의 실제 이름을 의미합니다.\n",
    "* ```/home/user/workspace/src/jupyter``` 와 같이 모든 경로가 절대경로를 의미합니다."
   ]
  },
  {
   "cell_type": "code",
   "execution_count": 28,
   "id": "a1336431",
   "metadata": {},
   "outputs": [
    {
     "data": {
      "text/plain": [
       "'/home/mark01/workspace/jupyter-notebook'"
      ]
     },
     "execution_count": 28,
     "metadata": {},
     "output_type": "execute_result"
    }
   ],
   "source": [
    "# 절대경로 구하기\n",
    "os.path.abspath('../../')"
   ]
  },
  {
   "cell_type": "code",
   "execution_count": 31,
   "id": "fe7fc2b9",
   "metadata": {},
   "outputs": [
    {
     "data": {
      "text/plain": [
       "'appnum.csv'"
      ]
     },
     "execution_count": 31,
     "metadata": {},
     "output_type": "execute_result"
    }
   ],
   "source": [
    "# 경로의 베이스 이름 구하기\n",
    "# 입력받은 경로의 기본 이름 (맨 마지막 이름)을 반환받습니다.\n",
    "os.path.basename('../../../data/appnum.csv')"
   ]
  },
  {
   "cell_type": "code",
   "execution_count": 29,
   "id": "bb55e32b",
   "metadata": {},
   "outputs": [
    {
     "data": {
      "text/plain": [
       "False"
      ]
     },
     "execution_count": 29,
     "metadata": {},
     "output_type": "execute_result"
    }
   ],
   "source": [
    "# 경로가 존재하는지 확인하기\n",
    "os.path.exists('/home/workspace')"
   ]
  },
  {
   "cell_type": "code",
   "execution_count": 30,
   "id": "d87b753c",
   "metadata": {},
   "outputs": [
    {
     "data": {
      "text/plain": [
       "True"
      ]
     },
     "execution_count": 30,
     "metadata": {},
     "output_type": "execute_result"
    }
   ],
   "source": [
    "# 특정한 파일이 존재하는지 확인하기\n",
    "os.path.isfile('/home/mark01/workspace/data/appnum.csv')"
   ]
  },
  {
   "cell_type": "code",
   "execution_count": 32,
   "id": "e2afe43d",
   "metadata": {},
   "outputs": [
    {
     "name": "stdout",
     "output_type": "stream",
     "text": [
      "/home/mark01/workspace/src/appnum.csv\n"
     ]
    }
   ],
   "source": [
    "# 하나 이상의 경로를 조합하기\n",
    "\n",
    "origin = '/home/mark01/workspace/data/appnum.csv'\n",
    "destination = '/home/mark01/workspace/src'\n",
    "\n",
    "file = os.path.basename(origin)\n",
    "file_at_final = os.path.join(destination, file)\n",
    "print(file_at_final)"
   ]
  },
  {
   "cell_type": "code",
   "execution_count": 47,
   "id": "0e119a33",
   "metadata": {},
   "outputs": [
    {
     "name": "stdout",
     "output_type": "stream",
     "text": [
      "/home/mark01/connssh/\n",
      "/home/mark01/connssh/external\n",
      "/home/mark01/connssh/internal\n",
      "/home/mark01/connssh/nipa\n"
     ]
    }
   ],
   "source": [
    "# 고급 기능: os.walk\n",
    "# os.walk는 해당 path의 모든 디렉터리와 파일정보들을 보여준다.\n",
    "# 항상 3개를 unpack 해야 한다.\n",
    "# root는 해당 디렉터리의 경로를 반환해준다.\n",
    "\n",
    "for root, direcs, files in os.walk('/home/mark01/connssh/'):\n",
    "    print(root)"
   ]
  },
  {
   "cell_type": "code",
   "execution_count": 48,
   "id": "6daf081d",
   "metadata": {},
   "outputs": [
    {
     "name": "stdout",
     "output_type": "stream",
     "text": [
      "['external', 'internal', 'nipa']\n",
      "[]\n",
      "[]\n",
      "[]\n"
     ]
    }
   ],
   "source": [
    "# dirs는 해당 경로내의 모든 디렉터리들을 반환해준다.\n",
    "# 디렉터리 안의 모든 디렉터리까지 반환해준다.\n",
    "for roots, direcs, files in os.walk('/home/mark01/connssh/'):\n",
    "    print(direcs)"
   ]
  },
  {
   "cell_type": "code",
   "execution_count": 49,
   "id": "541e2a7d",
   "metadata": {},
   "outputs": [
    {
     "name": "stdout",
     "output_type": "stream",
     "text": [
      "['conn_mark_usa_mongo_database.sh', 'conn_sju_gpuserver.sh', 'conn_mark_revAPI.sh', 'conn_mark_elasticsearch_rev.sh', 'conn_sju_webserver.sh', 'conn_mark_webserver.sh', 'conn_aws_is.sh', 'ho_conn.sh', 'conn_mark_apiserver.sh', 'conn_mark_tongAddress.sh', 'conn_mark_admin.sh']\n",
      "['conn_mark_nb07.sh']\n",
      "['conn_mark_nas.sh', 'conn_mark80_gpu.sh', 'conn_mark81_db.sh', 'conn_mark98.sh', 'conn_mark71.sh', 'conn_mark05.sh', 'conn_mark99.sh']\n",
      "['conn_supermark01.sh', 'conn_superhaeyul01.sh']\n"
     ]
    }
   ],
   "source": [
    "# files 는 디렉터리 내의 모든 파일목록들을 반환해준다.\n",
    "for roots, direcs, files in os.walk('/home/mark01/connssh/'):\n",
    "    print(files)"
   ]
  },
  {
   "cell_type": "code",
   "execution_count": 56,
   "id": "02f808ab",
   "metadata": {},
   "outputs": [
    {
     "name": "stdout",
     "output_type": "stream",
     "text": [
      "/home/mark01/connssh/conn_mark_usa_mongo_database.sh\n",
      "/home/mark02/workspace/conn_mark_usa_mongo_database.sh \n",
      "\n",
      "/home/mark01/connssh/conn_sju_gpuserver.sh\n",
      "/home/mark02/workspace/conn_sju_gpuserver.sh \n",
      "\n",
      "/home/mark01/connssh/conn_mark_revAPI.sh\n",
      "/home/mark02/workspace/conn_mark_revAPI.sh \n",
      "\n",
      "/home/mark01/connssh/conn_mark_elasticsearch_rev.sh\n",
      "/home/mark02/workspace/conn_mark_elasticsearch_rev.sh \n",
      "\n",
      "/home/mark01/connssh/conn_sju_webserver.sh\n",
      "/home/mark02/workspace/conn_sju_webserver.sh \n",
      "\n",
      "/home/mark01/connssh/conn_mark_webserver.sh\n",
      "/home/mark02/workspace/conn_mark_webserver.sh \n",
      "\n",
      "/home/mark01/connssh/conn_aws_is.sh\n",
      "/home/mark02/workspace/conn_aws_is.sh \n",
      "\n",
      "/home/mark01/connssh/ho_conn.sh\n",
      "/home/mark02/workspace/ho_conn.sh \n",
      "\n",
      "/home/mark01/connssh/conn_mark_apiserver.sh\n",
      "/home/mark02/workspace/conn_mark_apiserver.sh \n",
      "\n",
      "/home/mark01/connssh/conn_mark_tongAddress.sh\n",
      "/home/mark02/workspace/conn_mark_tongAddress.sh \n",
      "\n",
      "/home/mark01/connssh/conn_mark_admin.sh\n",
      "/home/mark02/workspace/conn_mark_admin.sh \n",
      "\n",
      "/home/mark01/connssh/external/conn_mark_nb07.sh\n",
      "/home/mark02/workspace/conn_mark_nb07.sh \n",
      "\n",
      "/home/mark01/connssh/internal/conn_mark_nas.sh\n",
      "/home/mark02/workspace/conn_mark_nas.sh \n",
      "\n",
      "/home/mark01/connssh/internal/conn_mark80_gpu.sh\n",
      "/home/mark02/workspace/conn_mark80_gpu.sh \n",
      "\n",
      "/home/mark01/connssh/internal/conn_mark81_db.sh\n",
      "/home/mark02/workspace/conn_mark81_db.sh \n",
      "\n",
      "/home/mark01/connssh/internal/conn_mark98.sh\n",
      "/home/mark02/workspace/conn_mark98.sh \n",
      "\n",
      "/home/mark01/connssh/internal/conn_mark71.sh\n",
      "/home/mark02/workspace/conn_mark71.sh \n",
      "\n",
      "/home/mark01/connssh/internal/conn_mark05.sh\n",
      "/home/mark02/workspace/conn_mark05.sh \n",
      "\n",
      "/home/mark01/connssh/internal/conn_mark99.sh\n",
      "/home/mark02/workspace/conn_mark99.sh \n",
      "\n",
      "/home/mark01/connssh/nipa/conn_supermark01.sh\n",
      "/home/mark02/workspace/conn_supermark01.sh \n",
      "\n",
      "/home/mark01/connssh/nipa/conn_superhaeyul01.sh\n",
      "/home/mark02/workspace/conn_superhaeyul01.sh \n",
      "\n"
     ]
    }
   ],
   "source": [
    "# os.walk() 응용: 파일 경로 조작하기\n",
    "\n",
    "destination = '/home/mark02/workspace'\n",
    "for root, direcs, files in os.walk('/home/mark01/connssh/'):\n",
    "    for file in files:\n",
    "        fullpath = os.path.join(root, file)\n",
    "        print(fullpath)\n",
    "        \n",
    "        new_path = os.path.join(destination, file)\n",
    "        print(new_path, '\\n')"
   ]
  },
  {
   "cell_type": "markdown",
   "id": "fc713697",
   "metadata": {},
   "source": [
    "### 1.1.3 shutil"
   ]
  },
  {
   "cell_type": "markdown",
   "id": "c329a004",
   "metadata": {},
   "source": [
    "* shutil는 파일 조작 전용 라이브러리입니다.\n",
    "* 파일의 복사, 이동등에 유용하게 사용됩니다."
   ]
  },
  {
   "cell_type": "code",
   "execution_count": 57,
   "id": "9681fd9d",
   "metadata": {},
   "outputs": [],
   "source": [
    "import shutil"
   ]
  },
  {
   "cell_type": "code",
   "execution_count": null,
   "id": "acddfe21",
   "metadata": {},
   "outputs": [],
   "source": [
    "# 파일 복사\n",
    "# origin 경로에서 destination 으로 파일을 복사하고 싶을 경우\n",
    "\n",
    "origin = '/mnt/e/sample.json'\n",
    "destination = '/mnt/d/sample.json'\n",
    "shutil.copy(origin, destination)"
   ]
  },
  {
   "cell_type": "code",
   "execution_count": null,
   "id": "2f140a75",
   "metadata": {},
   "outputs": [],
   "source": [
    "# 파일 이동\n",
    "# origin 경로에서 destination 으로 파일을 복사하고 싶을 경우\n",
    "\n",
    "origin = '/mnt/e/sample.json'\n",
    "destination = '/mnt/d/sample.json'\n",
    "shutil.move(origin, destination)"
   ]
  },
  {
   "cell_type": "code",
   "execution_count": null,
   "id": "6052d2b6",
   "metadata": {},
   "outputs": [],
   "source": [
    "# 디렉터리 및 디렉터리 내의 모든 디렉터리 및 파일 삭제\n",
    "# 위의 os.removedirs 과 어떤 차이가 있는지 찾아보세요.\n",
    "shutil.rmtree('f:/data')"
   ]
  },
  {
   "cell_type": "markdown",
   "id": "fbfb0f6d",
   "metadata": {},
   "source": [
    "### 1.1.4 sys"
   ]
  },
  {
   "cell_type": "markdown",
   "id": "01b9a193",
   "metadata": {},
   "source": [
    "* sys 는 파이썬 인터프리터를 제어할 수 있는 모듈입니다.\n",
    "* 인터프리터를 제어함으로써 우리가 작성한 파이썬 코드가 해석되는 도중 어떻게 작동되는지를 결정할 수 있습니다.\n",
    "* sys는 파이썬을 ```.py``` 파일로 만들어 실행시킬때 더 유용합니다.\n",
    "* 오늘은 자주쓰이는 몇개의 간단한 함수만 살펴보고, 자세한 내용은 다음에 알아보겠습니다."
   ]
  },
  {
   "cell_type": "code",
   "execution_count": 61,
   "id": "ad821420",
   "metadata": {},
   "outputs": [],
   "source": [
    "import sys"
   ]
  },
  {
   "cell_type": "code",
   "execution_count": 62,
   "id": "c3a18639",
   "metadata": {},
   "outputs": [
    {
     "data": {
      "text/plain": [
       "'-f'"
      ]
     },
     "execution_count": 62,
     "metadata": {},
     "output_type": "execute_result"
    }
   ],
   "source": [
    "sys.argv[1]"
   ]
  },
  {
   "cell_type": "code",
   "execution_count": 63,
   "id": "79d95d39",
   "metadata": {},
   "outputs": [
    {
     "ename": "SystemExit",
     "evalue": "",
     "output_type": "error",
     "traceback": [
      "An exception has occurred, use %tb to see the full traceback.\n",
      "\u001b[0;31mSystemExit\u001b[0m\n"
     ]
    },
    {
     "name": "stderr",
     "output_type": "stream",
     "text": [
      "/home/mark01/workspace/jupyter-notebook/venv/lib/python3.8/site-packages/IPython/core/interactiveshell.py:3449: UserWarning: To exit: use 'exit', 'quit', or Ctrl-D.\n",
      "  warn(\"To exit: use 'exit', 'quit', or Ctrl-D.\", stacklevel=1)\n"
     ]
    }
   ],
   "source": [
    "sys.exit()"
   ]
  },
  {
   "cell_type": "code",
   "execution_count": 67,
   "id": "ec99b4c5",
   "metadata": {},
   "outputs": [
    {
     "name": "stdout",
     "output_type": "stream",
     "text": [
      "hi"
     ]
    },
    {
     "data": {
      "text/plain": [
       "2"
      ]
     },
     "execution_count": 67,
     "metadata": {},
     "output_type": "execute_result"
    }
   ],
   "source": [
    "sys.stdout.write('hi')"
   ]
  },
  {
   "cell_type": "code",
   "execution_count": 66,
   "id": "6f5ae636",
   "metadata": {},
   "outputs": [
    {
     "name": "stderr",
     "output_type": "stream",
     "text": [
      "error"
     ]
    },
    {
     "data": {
      "text/plain": [
       "5"
      ]
     },
     "execution_count": 66,
     "metadata": {},
     "output_type": "execute_result"
    }
   ],
   "source": [
    "sys.stderr.write('error')"
   ]
  }
 ],
 "metadata": {
  "kernelspec": {
   "display_name": "Python 3 (ipykernel)",
   "language": "python",
   "name": "python3"
  },
  "language_info": {
   "codemirror_mode": {
    "name": "ipython",
    "version": 3
   },
   "file_extension": ".py",
   "mimetype": "text/x-python",
   "name": "python",
   "nbconvert_exporter": "python",
   "pygments_lexer": "ipython3",
   "version": "3.8.10"
  }
 },
 "nbformat": 4,
 "nbformat_minor": 5
}

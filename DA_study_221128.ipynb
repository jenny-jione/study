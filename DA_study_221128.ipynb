{
 "cells": [
  {
   "cell_type": "markdown",
   "id": "0861308d",
   "metadata": {},
   "source": [
    "set\n",
    "차집합 교집합에 굿"
   ]
  },
  {
   "cell_type": "markdown",
   "id": "6ffafbb9",
   "metadata": {},
   "source": [
    "셋도 함수형 데이터 타입\n",
    "딕셔너리도 순서 보장 안됨\n",
    "3.7부터 순서 보장됨 그래서 순서 보장됨 "
   ]
  },
  {
   "cell_type": "code",
   "execution_count": null,
   "id": "cb38ff80",
   "metadata": {},
   "outputs": [],
   "source": [
    "차집합\n",
    "합집합 - 교집합 아니야 그냥 빼기야 "
   ]
  },
  {
   "cell_type": "code",
   "execution_count": null,
   "id": "24e48a06",
   "metadata": {},
   "outputs": [],
   "source": [
    "대칭차집합\n",
    "합집합-교집합 "
   ]
  },
  {
   "cell_type": "code",
   "execution_count": null,
   "id": "a3725b2e",
   "metadata": {},
   "outputs": [],
   "source": [
    "시간복잡도"
   ]
  },
  {
   "cell_type": "code",
   "execution_count": 7,
   "id": "ba3d610b",
   "metadata": {},
   "outputs": [],
   "source": [
    "user_id='king'\n",
    "u_dv={'h','i','king','u'}"
   ]
  },
  {
   "cell_type": "code",
   "execution_count": 8,
   "id": "b1f63adc",
   "metadata": {},
   "outputs": [],
   "source": [
    "for i in enumerate(u_dv):\n",
    "    if i == u_dv:\n",
    "        print(i)"
   ]
  },
  {
   "cell_type": "code",
   "execution_count": null,
   "id": "3b26bda1",
   "metadata": {},
   "outputs": [],
   "source": [
    "사용자정의 데이터"
   ]
  },
  {
   "cell_type": "markdown",
   "id": "38a9b08e",
   "metadata": {},
   "source": [
    "우리가 만든 데이터"
   ]
  },
  {
   "cell_type": "code",
   "execution_count": 9,
   "id": "c9f72cae",
   "metadata": {},
   "outputs": [],
   "source": [
    "class something:\n",
    "    pass"
   ]
  },
  {
   "cell_type": "markdown",
   "id": "d02f37dd",
   "metadata": {},
   "source": [
    "클래스는 함수보다 상위 "
   ]
  },
  {
   "cell_type": "code",
   "execution_count": 10,
   "id": "f7062d79",
   "metadata": {},
   "outputs": [],
   "source": [
    "name='suky choi'"
   ]
  },
  {
   "cell_type": "code",
   "execution_count": 11,
   "id": "5590c67b",
   "metadata": {},
   "outputs": [
    {
     "name": "stdout",
     "output_type": "stream",
     "text": [
      "suky choi\n"
     ]
    }
   ],
   "source": [
    "print(name)"
   ]
  },
  {
   "cell_type": "code",
   "execution_count": null,
   "id": "c949c068",
   "metadata": {},
   "outputs": [],
   "source": [
    "스트링에 이름을 담음 / 이게 뭔지 몰라 다른 사람이 보면 "
   ]
  },
  {
   "cell_type": "code",
   "execution_count": 13,
   "id": "07ab4fa0",
   "metadata": {},
   "outputs": [],
   "source": [
    "class fullname:\n",
    "    def __init__(self, first: str, last: str) -> None:\n",
    "        if len(first) >10:\n",
    "            raise(\"First is too long\")\n",
    "        self._first=first\n",
    "        self._last =last\n",
    "        \n",
    "    def __repr__(self):\n",
    "        return f'Full!!!!'\n",
    "    \n",
    "    def __str__(self):\n",
    "        return f'{self._first}{self._last}'"
   ]
  },
  {
   "cell_type": "code",
   "execution_count": null,
   "id": "d5367954",
   "metadata": {},
   "outputs": [],
   "source": [
    "init 은 생성자\n",
    "인스턴스를 만emfEo \n"
   ]
  },
  {
   "cell_type": "code",
   "execution_count": 19,
   "id": "65f7bd66",
   "metadata": {},
   "outputs": [
    {
     "data": {
      "text/plain": [
       "Full!!!!"
      ]
     },
     "execution_count": 19,
     "metadata": {},
     "output_type": "execute_result"
    }
   ],
   "source": [
    "fullname('66','2')"
   ]
  },
  {
   "cell_type": "code",
   "execution_count": 21,
   "id": "8df921fe",
   "metadata": {},
   "outputs": [
    {
     "ename": "SyntaxError",
     "evalue": "invalid decimal literal (2796297971.py, line 1)",
     "output_type": "error",
     "traceback": [
      "\u001b[1;36m  Cell \u001b[1;32mIn [21], line 1\u001b[1;36m\u001b[0m\n\u001b[1;33m    언더바 2개 매직메소드\u001b[0m\n\u001b[1;37m        ^\u001b[0m\n\u001b[1;31mSyntaxError\u001b[0m\u001b[1;31m:\u001b[0m invalid decimal literal\n"
     ]
    }
   ],
   "source": [
    "언더바 2개 매직메소드 \n",
    "클래스 안에서 사용할 수 있도록 함'\n",
    "\n",
    "\n",
    "프로커피, 프로퍼티 자입 \n",
    "\n",
    "{언더바 1개} 안에 무슨 데이터가 들어있는지 모르게 하는것(캡슐화) 언더바 잘 몰라 다음 시간에 "
   ]
  },
  {
   "cell_type": "code",
   "execution_count": 20,
   "id": "97cea7d7",
   "metadata": {},
   "outputs": [
    {
     "ename": "TypeError",
     "evalue": "fullname.__init__() missing 2 required positional arguments: 'first' and 'last'",
     "output_type": "error",
     "traceback": [
      "\u001b[1;31m---------------------------------------------------------------------------\u001b[0m",
      "\u001b[1;31mTypeError\u001b[0m                                 Traceback (most recent call last)",
      "Cell \u001b[1;32mIn [20], line 1\u001b[0m\n\u001b[1;32m----> 1\u001b[0m \u001b[43mfullname\u001b[49m\u001b[43m(\u001b[49m\u001b[43m)\u001b[49m\n",
      "\u001b[1;31mTypeError\u001b[0m: fullname.__init__() missing 2 required positional arguments: 'first' and 'last'"
     ]
    }
   ],
   "source": [
    "fullname()"
   ]
  },
  {
   "cell_type": "code",
   "execution_count": null,
   "id": "8cd32817",
   "metadata": {},
   "outputs": [],
   "source": []
  },
  {
   "cell_type": "code",
   "execution_count": null,
   "id": "07e8e4ec",
   "metadata": {},
   "outputs": [],
   "source": []
  }
 ],
 "metadata": {
  "kernelspec": {
   "display_name": "Python 3 (ipykernel)",
   "language": "python",
   "name": "python3"
  },
  "language_info": {
   "codemirror_mode": {
    "name": "ipython",
    "version": 3
   },
   "file_extension": ".py",
   "mimetype": "text/x-python",
   "name": "python",
   "nbconvert_exporter": "python",
   "pygments_lexer": "ipython3",
   "version": "3.11.0"
  }
 },
 "nbformat": 4,
 "nbformat_minor": 5
}

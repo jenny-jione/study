{
 "cells": [
  {
   "cell_type": "code",
   "execution_count": 1,
   "id": "7e708121",
   "metadata": {},
   "outputs": [],
   "source": [
    "from dataclasses import dataclass, field\n",
    "from abc import ABCMeta, abstractmethod\n",
    "import hashlib"
   ]
  },
  {
   "cell_type": "code",
   "execution_count": 2,
   "id": "d47f3926",
   "metadata": {},
   "outputs": [],
   "source": [
    "@dataclass(init=False, eq=True, frozen=True)\n",
    "#valueObject\n",
    "class UserUniqueId:\n",
    "    value: str\n",
    "    def __init__(self, value: str = None):\n",
    "        if not value:\n",
    "            raise ValueError('SSN is required!')\n",
    "        object.__setattr__(self, 'value', hashlib.sha256(str(value).encode()).hexdigest())"
   ]
  },
  {
   "cell_type": "code",
   "execution_count": 3,
   "id": "1062262b",
   "metadata": {},
   "outputs": [],
   "source": [
    "uu = UserUniqueId(123)"
   ]
  },
  {
   "cell_type": "code",
   "execution_count": 4,
   "id": "e0a0c5ae",
   "metadata": {},
   "outputs": [
    {
     "data": {
      "text/plain": [
       "UserUniqueId(value='a665a45920422f9d417e4867efdc4fb8a04a1f3fff1fa07e998e86f7f7a27ae3')"
      ]
     },
     "execution_count": 4,
     "metadata": {},
     "output_type": "execute_result"
    }
   ],
   "source": [
    "uu"
   ]
  },
  {
   "cell_type": "code",
   "execution_count": 5,
   "id": "feab739b",
   "metadata": {},
   "outputs": [],
   "source": [
    "@dataclass\n",
    "#Entity\n",
    "class User:\n",
    "    user_id : str = field(compare=False)\n",
    "    password: str = field(compare=False)\n",
    "    ssn: int = field(compare=False)\n",
    "    uuid: UserUniqueId = field(init=False)\n",
    "    \n",
    "    def __post_init__(self):\n",
    "        self.uuid = UserUniqueId(self.ssn)"
   ]
  },
  {
   "cell_type": "code",
   "execution_count": 6,
   "id": "6776f51b",
   "metadata": {},
   "outputs": [],
   "source": [
    "user_one = User('mark01', '1234', '1111')"
   ]
  },
  {
   "cell_type": "code",
   "execution_count": 7,
   "id": "0fc75192",
   "metadata": {},
   "outputs": [
    {
     "data": {
      "text/plain": [
       "User(user_id='mark01', password='1234', ssn='1111', uuid=UserUniqueId(value='0ffe1abd1a08215353c233d6e009613e95eec4253832a761af28ff37ac5a150c'))"
      ]
     },
     "execution_count": 7,
     "metadata": {},
     "output_type": "execute_result"
    }
   ],
   "source": [
    "user_one"
   ]
  },
  {
   "cell_type": "code",
   "execution_count": null,
   "id": "3a35417e",
   "metadata": {},
   "outputs": [],
   "source": []
  },
  {
   "cell_type": "code",
   "execution_count": null,
   "id": "9ee88b50",
   "metadata": {},
   "outputs": [],
   "source": []
  },
  {
   "cell_type": "code",
   "execution_count": null,
   "id": "65898150",
   "metadata": {},
   "outputs": [],
   "source": []
  },
  {
   "cell_type": "code",
   "execution_count": null,
   "id": "9bd407c5",
   "metadata": {},
   "outputs": [],
   "source": []
  },
  {
   "cell_type": "code",
   "execution_count": null,
   "id": "ebd81f3a",
   "metadata": {},
   "outputs": [],
   "source": []
  },
  {
   "cell_type": "code",
   "execution_count": null,
   "id": "2aec5be8",
   "metadata": {},
   "outputs": [],
   "source": []
  }
 ],
 "metadata": {
  "kernelspec": {
   "display_name": "Python 3 (ipykernel)",
   "language": "python",
   "name": "python3"
  },
  "language_info": {
   "codemirror_mode": {
    "name": "ipython",
    "version": 3
   },
   "file_extension": ".py",
   "mimetype": "text/x-python",
   "name": "python",
   "nbconvert_exporter": "python",
   "pygments_lexer": "ipython3",
   "version": "3.10.8"
  }
 },
 "nbformat": 4,
 "nbformat_minor": 5
}

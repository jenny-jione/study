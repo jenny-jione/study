{
 "cells": [
  {
   "cell_type": "code",
   "execution_count": null,
   "metadata": {},
   "outputs": [],
   "source": [
    "import requests\n",
    "import json\n",
    "from bs4 import BeautifulSoup"
   ]
  },
  {
   "cell_type": "code",
   "execution_count": null,
   "metadata": {},
   "outputs": [],
   "source": [
    "url = 'https://www.morkcloud.co.kr'"
   ]
  },
  {
   "cell_type": "code",
   "execution_count": null,
   "metadata": {},
   "outputs": [],
   "source": [
    "def test_markcloud(url):\n",
    "    response = requests.get(url)\n",
    "    assert response.status_code == 200, f'status code: {response.status_code}, error: {response._content}'\n",
    "    print('domain good')\n",
    "    \n",
    "    html = response.content\n",
    "    soup = BeautifulSoup(html, 'html.parser', from_encoding='utf-8')\n",
    "    title = soup.find('title')\n",
    "    assert '마크클라우드' in title.contents, 'wrong homepage'\n",
    "    # 여기서 로그인 버튼에 '로그인'이라고 제대로 되어있는지 (clean 상태인지)를 확인하는 과정\n",
    "    print('test good')\n",
    "    \n",
    "    sign_in_url = url + '/sign-in'\n",
    "    \n",
    "    response = requests.get(sign_in_url)\n",
    "    assert response.status_code == 200, f'status code: {response.status_code}, error: {response._content}'\n",
    "    \n",
    "    sign_in_api = url + '/api/auth/login'\n",
    "    \n",
    "    data = {'login_ip':'115.94.109.99', 'password':'markcloud146!', 'user_id':'mark0101'}\n",
    "    data = json.dumps(data)\n",
    "    \n",
    "    response = requests.post(sign_in_api, data=data)\n",
    "    assert response.status_code == 200, f'status code: {response.status_code}, error: {response._content}'\n",
    "    assert response.json()['status']['code'] == 200\n",
    "    assert response.json()['data']['access_token']\n",
    "    \n",
    "    print('sign good')\n",
    "    \n",
    "    # 이 코드 느낀점\n",
    "    # 1. 노가다 .. \n",
    "    # 2. 완벽한 기획안이 있어야 이렇게 테스트 코드를 짤 수 있다.\n",
    "        # TDD 는 설계가 중 요 . . \n",
    "    # 테스트 시나리오를 짤 때 위에서부터 순서대로 \n",
    "    \n",
    "    # 장점\n",
    "    # 이걸 깃랩에 올렸다고 했을 때 \n",
    "    # 다음 사람에게 넘겨줄 때 이런 과정으로 만들었다고 직관적으로 알아볼 수 있다.\n",
    "    # 유지보수에 좋다 !\n",
    "    # 공식문서화\n",
    "    \n",
    "    # 그러나 개발인원은 적고 개발해야 하는 양은 많을 때(스타트업)는 TDD가 너무 힘들다.\n",
    "    # 시스템이 체계화되어있고 정량적으로 평가를 할 수 있는 대기업은 TDD로 작업을 함"
   ]
  },
  {
   "cell_type": "code",
   "execution_count": null,
   "metadata": {},
   "outputs": [],
   "source": [
    "test_markcloud(url)"
   ]
  },
  {
   "cell_type": "code",
   "execution_count": null,
   "metadata": {},
   "outputs": [],
   "source": []
  },
  {
   "cell_type": "code",
   "execution_count": null,
   "metadata": {},
   "outputs": [],
   "source": []
  },
  {
   "cell_type": "code",
   "execution_count": null,
   "metadata": {},
   "outputs": [],
   "source": []
  },
  {
   "cell_type": "code",
   "execution_count": null,
   "metadata": {},
   "outputs": [],
   "source": []
  }
 ],
 "metadata": {
  "kernelspec": {
   "display_name": "Python 3",
   "language": "python",
   "name": "python3"
  },
  "language_info": {
   "codemirror_mode": {
    "name": "ipython",
    "version": 3
   },
   "file_extension": ".py",
   "mimetype": "text/x-python",
   "name": "python",
   "nbconvert_exporter": "python",
   "pygments_lexer": "ipython3",
   "version": "3.7.3"
  }
 },
 "nbformat": 4,
 "nbformat_minor": 2
}

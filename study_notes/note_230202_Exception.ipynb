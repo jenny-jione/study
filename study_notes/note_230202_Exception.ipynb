{
 "cells": [
  {
   "cell_type": "code",
   "execution_count": null,
   "id": "cedd5a52",
   "metadata": {},
   "outputs": [],
   "source": [
    "# 예외처리\n",
    "# 예외처리 기본\n",
    "try:\n",
    "    their_list = range(0, 10)\n",
    "    index = int(input('Entered number is: '))\n",
    "    print(their_list[index])\n",
    "\n",
    "except IndexError:\n",
    "    index =0\n",
    "    print(their_list[index])\n",
    "\n",
    "except Exception as e:\n",
    "    print(f'Error! Original Error: {e}')\n",
    "\n",
    "except KeyError  # 밑에 raise로 올린 에러 문구가 뜬다. wrong params\n",
    "    \n",
    "    \n",
    "try:\n",
    "    funcx()\n",
    "except:\n",
    "    pass\n",
    "    \n",
    "    \n",
    "    if:\"..\n",
    "        \n",
    "    else:\n",
    "        raise KeyError('worng params')   # raise"
   ]
  }
 ],
 "metadata": {
  "kernelspec": {
   "display_name": "Python 3 (ipykernel)",
   "language": "python",
   "name": "python3"
  },
  "language_info": {
   "codemirror_mode": {
    "name": "ipython",
    "version": 3
   },
   "file_extension": ".py",
   "mimetype": "text/x-python",
   "name": "python",
   "nbconvert_exporter": "python",
   "pygments_lexer": "ipython3",
   "version": "3.10.8"
  }
 },
 "nbformat": 4,
 "nbformat_minor": 5
}
